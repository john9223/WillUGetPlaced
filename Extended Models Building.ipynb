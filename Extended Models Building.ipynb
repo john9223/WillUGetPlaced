{
 "cells": [
  {
   "cell_type": "code",
   "execution_count": 2,
   "metadata": {
    "_kg_hide-input": true,
    "execution": {
     "iopub.execute_input": "2023-04-08T18:17:22.711850Z",
     "iopub.status.busy": "2023-04-08T18:17:22.711339Z",
     "iopub.status.idle": "2023-04-08T18:17:24.846573Z",
     "shell.execute_reply": "2023-04-08T18:17:24.845584Z",
     "shell.execute_reply.started": "2023-04-08T18:17:22.711815Z"
    }
   },
   "outputs": [],
   "source": [
    "#IMPORT THE LIBRARIES....\n",
    "import numpy as np # linear algebra....\n",
    "import pandas as pd # data processing, CSV file I/O (e.g. pd.read_csv)....\n",
    "from matplotlib import pyplot as plt #Visualization of the data....\n",
    "import warnings\n",
    "warnings.filterwarnings(\"ignore\")\n",
    "pd.set_option(\"display.max_columns\",None)\n",
    "pd.set_option(\"display.max_rows\",None)\n",
    "import plotly.graph_objs as go\n",
    "import matplotlib as mpl\n",
    "import matplotlib.patches as mpatches\n",
    "import seaborn as sns\n",
    "import plotly.express as px\n",
    "from sklearn.preprocessing import StandardScaler\n",
    "from plotly import tools\n",
    "from plotly.subplots import make_subplots\n",
    "from plotly.offline import iplot"
   ]
  },
  {
   "cell_type": "code",
   "execution_count": 3,
   "metadata": {
    "_kg_hide-input": true,
    "execution": {
     "iopub.execute_input": "2023-04-08T18:17:24.848490Z",
     "iopub.status.busy": "2023-04-08T18:17:24.848233Z",
     "iopub.status.idle": "2023-04-08T18:17:24.858204Z",
     "shell.execute_reply": "2023-04-08T18:17:24.856781Z",
     "shell.execute_reply.started": "2023-04-08T18:17:24.848458Z"
    }
   },
   "outputs": [
    {
     "name": "stdout",
     "output_type": "stream",
     "text": [
      "/kaggle/input/engineering-placements-prediction/collegePlace.csv\n"
     ]
    }
   ],
   "source": [
    "import os\n",
    "for dirname, _, filenames in os.walk('/kaggle/input'):\n",
    "    for filename in filenames:\n",
    "        print(os.path.join(dirname, filename))"
   ]
  },
  {
   "cell_type": "code",
   "execution_count": 4,
   "metadata": {
    "_kg_hide-input": true,
    "execution": {
     "iopub.execute_input": "2023-04-08T18:17:24.861702Z",
     "iopub.status.busy": "2023-04-08T18:17:24.860438Z",
     "iopub.status.idle": "2023-04-08T18:17:24.955774Z",
     "shell.execute_reply": "2023-04-08T18:17:24.955163Z",
     "shell.execute_reply.started": "2023-04-08T18:17:24.861653Z"
    }
   },
   "outputs": [
    {
     "data": {
      "text/html": [
       "<style type=\"text/css\">\n",
       "#T_0f59f_row0_col0, #T_0f59f_row0_col1, #T_0f59f_row0_col2, #T_0f59f_row0_col3, #T_0f59f_row0_col4, #T_0f59f_row0_col5, #T_0f59f_row0_col6, #T_0f59f_row0_col7, #T_0f59f_row1_col0, #T_0f59f_row1_col1, #T_0f59f_row1_col2, #T_0f59f_row1_col3, #T_0f59f_row1_col4, #T_0f59f_row1_col5, #T_0f59f_row1_col6, #T_0f59f_row1_col7, #T_0f59f_row2_col0, #T_0f59f_row2_col1, #T_0f59f_row2_col2, #T_0f59f_row2_col3, #T_0f59f_row2_col4, #T_0f59f_row2_col5, #T_0f59f_row2_col6, #T_0f59f_row2_col7, #T_0f59f_row3_col0, #T_0f59f_row3_col1, #T_0f59f_row3_col2, #T_0f59f_row3_col3, #T_0f59f_row3_col4, #T_0f59f_row3_col5, #T_0f59f_row3_col6, #T_0f59f_row3_col7, #T_0f59f_row4_col0, #T_0f59f_row4_col1, #T_0f59f_row4_col2, #T_0f59f_row4_col3, #T_0f59f_row4_col4, #T_0f59f_row4_col5, #T_0f59f_row4_col6, #T_0f59f_row4_col7, #T_0f59f_row5_col0, #T_0f59f_row5_col1, #T_0f59f_row5_col2, #T_0f59f_row5_col3, #T_0f59f_row5_col4, #T_0f59f_row5_col5, #T_0f59f_row5_col6, #T_0f59f_row5_col7, #T_0f59f_row6_col0, #T_0f59f_row6_col1, #T_0f59f_row6_col2, #T_0f59f_row6_col3, #T_0f59f_row6_col4, #T_0f59f_row6_col5, #T_0f59f_row6_col6, #T_0f59f_row6_col7, #T_0f59f_row7_col0, #T_0f59f_row7_col1, #T_0f59f_row7_col2, #T_0f59f_row7_col3, #T_0f59f_row7_col4, #T_0f59f_row7_col5, #T_0f59f_row7_col6, #T_0f59f_row7_col7, #T_0f59f_row8_col0, #T_0f59f_row8_col1, #T_0f59f_row8_col2, #T_0f59f_row8_col3, #T_0f59f_row8_col4, #T_0f59f_row8_col5, #T_0f59f_row8_col6, #T_0f59f_row8_col7, #T_0f59f_row9_col0, #T_0f59f_row9_col1, #T_0f59f_row9_col2, #T_0f59f_row9_col3, #T_0f59f_row9_col4, #T_0f59f_row9_col5, #T_0f59f_row9_col6, #T_0f59f_row9_col7 {\n",
       "  background-color: black;\n",
       "  color: white;\n",
       "  border-color: black;\n",
       "  font-size: 11.5pt;\n",
       "  width: 200;\n",
       "}\n",
       "</style>\n",
       "<table id=\"T_0f59f_\">\n",
       "  <thead>\n",
       "    <tr>\n",
       "      <th class=\"blank level0\" >&nbsp;</th>\n",
       "      <th class=\"col_heading level0 col0\" >Age</th>\n",
       "      <th class=\"col_heading level0 col1\" >Gender</th>\n",
       "      <th class=\"col_heading level0 col2\" >Stream</th>\n",
       "      <th class=\"col_heading level0 col3\" >Internships</th>\n",
       "      <th class=\"col_heading level0 col4\" >CGPA</th>\n",
       "      <th class=\"col_heading level0 col5\" >Hostel</th>\n",
       "      <th class=\"col_heading level0 col6\" >HistoryOfBacklogs</th>\n",
       "      <th class=\"col_heading level0 col7\" >PlacedOrNot</th>\n",
       "    </tr>\n",
       "  </thead>\n",
       "  <tbody>\n",
       "    <tr>\n",
       "      <th id=\"T_0f59f_level0_row0\" class=\"row_heading level0 row0\" >0</th>\n",
       "      <td id=\"T_0f59f_row0_col0\" class=\"data row0 col0\" >22</td>\n",
       "      <td id=\"T_0f59f_row0_col1\" class=\"data row0 col1\" >Male</td>\n",
       "      <td id=\"T_0f59f_row0_col2\" class=\"data row0 col2\" >Electronics And Communication</td>\n",
       "      <td id=\"T_0f59f_row0_col3\" class=\"data row0 col3\" >1</td>\n",
       "      <td id=\"T_0f59f_row0_col4\" class=\"data row0 col4\" >8</td>\n",
       "      <td id=\"T_0f59f_row0_col5\" class=\"data row0 col5\" >1</td>\n",
       "      <td id=\"T_0f59f_row0_col6\" class=\"data row0 col6\" >1</td>\n",
       "      <td id=\"T_0f59f_row0_col7\" class=\"data row0 col7\" >1</td>\n",
       "    </tr>\n",
       "    <tr>\n",
       "      <th id=\"T_0f59f_level0_row1\" class=\"row_heading level0 row1\" >1</th>\n",
       "      <td id=\"T_0f59f_row1_col0\" class=\"data row1 col0\" >21</td>\n",
       "      <td id=\"T_0f59f_row1_col1\" class=\"data row1 col1\" >Female</td>\n",
       "      <td id=\"T_0f59f_row1_col2\" class=\"data row1 col2\" >Computer Science</td>\n",
       "      <td id=\"T_0f59f_row1_col3\" class=\"data row1 col3\" >0</td>\n",
       "      <td id=\"T_0f59f_row1_col4\" class=\"data row1 col4\" >7</td>\n",
       "      <td id=\"T_0f59f_row1_col5\" class=\"data row1 col5\" >1</td>\n",
       "      <td id=\"T_0f59f_row1_col6\" class=\"data row1 col6\" >1</td>\n",
       "      <td id=\"T_0f59f_row1_col7\" class=\"data row1 col7\" >1</td>\n",
       "    </tr>\n",
       "    <tr>\n",
       "      <th id=\"T_0f59f_level0_row2\" class=\"row_heading level0 row2\" >2</th>\n",
       "      <td id=\"T_0f59f_row2_col0\" class=\"data row2 col0\" >22</td>\n",
       "      <td id=\"T_0f59f_row2_col1\" class=\"data row2 col1\" >Female</td>\n",
       "      <td id=\"T_0f59f_row2_col2\" class=\"data row2 col2\" >Information Technology</td>\n",
       "      <td id=\"T_0f59f_row2_col3\" class=\"data row2 col3\" >1</td>\n",
       "      <td id=\"T_0f59f_row2_col4\" class=\"data row2 col4\" >6</td>\n",
       "      <td id=\"T_0f59f_row2_col5\" class=\"data row2 col5\" >0</td>\n",
       "      <td id=\"T_0f59f_row2_col6\" class=\"data row2 col6\" >0</td>\n",
       "      <td id=\"T_0f59f_row2_col7\" class=\"data row2 col7\" >1</td>\n",
       "    </tr>\n",
       "    <tr>\n",
       "      <th id=\"T_0f59f_level0_row3\" class=\"row_heading level0 row3\" >3</th>\n",
       "      <td id=\"T_0f59f_row3_col0\" class=\"data row3 col0\" >21</td>\n",
       "      <td id=\"T_0f59f_row3_col1\" class=\"data row3 col1\" >Male</td>\n",
       "      <td id=\"T_0f59f_row3_col2\" class=\"data row3 col2\" >Information Technology</td>\n",
       "      <td id=\"T_0f59f_row3_col3\" class=\"data row3 col3\" >0</td>\n",
       "      <td id=\"T_0f59f_row3_col4\" class=\"data row3 col4\" >8</td>\n",
       "      <td id=\"T_0f59f_row3_col5\" class=\"data row3 col5\" >0</td>\n",
       "      <td id=\"T_0f59f_row3_col6\" class=\"data row3 col6\" >1</td>\n",
       "      <td id=\"T_0f59f_row3_col7\" class=\"data row3 col7\" >1</td>\n",
       "    </tr>\n",
       "    <tr>\n",
       "      <th id=\"T_0f59f_level0_row4\" class=\"row_heading level0 row4\" >4</th>\n",
       "      <td id=\"T_0f59f_row4_col0\" class=\"data row4 col0\" >22</td>\n",
       "      <td id=\"T_0f59f_row4_col1\" class=\"data row4 col1\" >Male</td>\n",
       "      <td id=\"T_0f59f_row4_col2\" class=\"data row4 col2\" >Mechanical</td>\n",
       "      <td id=\"T_0f59f_row4_col3\" class=\"data row4 col3\" >0</td>\n",
       "      <td id=\"T_0f59f_row4_col4\" class=\"data row4 col4\" >8</td>\n",
       "      <td id=\"T_0f59f_row4_col5\" class=\"data row4 col5\" >1</td>\n",
       "      <td id=\"T_0f59f_row4_col6\" class=\"data row4 col6\" >0</td>\n",
       "      <td id=\"T_0f59f_row4_col7\" class=\"data row4 col7\" >1</td>\n",
       "    </tr>\n",
       "    <tr>\n",
       "      <th id=\"T_0f59f_level0_row5\" class=\"row_heading level0 row5\" >5</th>\n",
       "      <td id=\"T_0f59f_row5_col0\" class=\"data row5 col0\" >22</td>\n",
       "      <td id=\"T_0f59f_row5_col1\" class=\"data row5 col1\" >Male</td>\n",
       "      <td id=\"T_0f59f_row5_col2\" class=\"data row5 col2\" >Electronics And Communication</td>\n",
       "      <td id=\"T_0f59f_row5_col3\" class=\"data row5 col3\" >0</td>\n",
       "      <td id=\"T_0f59f_row5_col4\" class=\"data row5 col4\" >6</td>\n",
       "      <td id=\"T_0f59f_row5_col5\" class=\"data row5 col5\" >0</td>\n",
       "      <td id=\"T_0f59f_row5_col6\" class=\"data row5 col6\" >0</td>\n",
       "      <td id=\"T_0f59f_row5_col7\" class=\"data row5 col7\" >0</td>\n",
       "    </tr>\n",
       "    <tr>\n",
       "      <th id=\"T_0f59f_level0_row6\" class=\"row_heading level0 row6\" >6</th>\n",
       "      <td id=\"T_0f59f_row6_col0\" class=\"data row6 col0\" >21</td>\n",
       "      <td id=\"T_0f59f_row6_col1\" class=\"data row6 col1\" >Male</td>\n",
       "      <td id=\"T_0f59f_row6_col2\" class=\"data row6 col2\" >Computer Science</td>\n",
       "      <td id=\"T_0f59f_row6_col3\" class=\"data row6 col3\" >0</td>\n",
       "      <td id=\"T_0f59f_row6_col4\" class=\"data row6 col4\" >7</td>\n",
       "      <td id=\"T_0f59f_row6_col5\" class=\"data row6 col5\" >0</td>\n",
       "      <td id=\"T_0f59f_row6_col6\" class=\"data row6 col6\" >1</td>\n",
       "      <td id=\"T_0f59f_row6_col7\" class=\"data row6 col7\" >0</td>\n",
       "    </tr>\n",
       "    <tr>\n",
       "      <th id=\"T_0f59f_level0_row7\" class=\"row_heading level0 row7\" >7</th>\n",
       "      <td id=\"T_0f59f_row7_col0\" class=\"data row7 col0\" >21</td>\n",
       "      <td id=\"T_0f59f_row7_col1\" class=\"data row7 col1\" >Male</td>\n",
       "      <td id=\"T_0f59f_row7_col2\" class=\"data row7 col2\" >Information Technology</td>\n",
       "      <td id=\"T_0f59f_row7_col3\" class=\"data row7 col3\" >1</td>\n",
       "      <td id=\"T_0f59f_row7_col4\" class=\"data row7 col4\" >7</td>\n",
       "      <td id=\"T_0f59f_row7_col5\" class=\"data row7 col5\" >0</td>\n",
       "      <td id=\"T_0f59f_row7_col6\" class=\"data row7 col6\" >0</td>\n",
       "      <td id=\"T_0f59f_row7_col7\" class=\"data row7 col7\" >0</td>\n",
       "    </tr>\n",
       "    <tr>\n",
       "      <th id=\"T_0f59f_level0_row8\" class=\"row_heading level0 row8\" >8</th>\n",
       "      <td id=\"T_0f59f_row8_col0\" class=\"data row8 col0\" >21</td>\n",
       "      <td id=\"T_0f59f_row8_col1\" class=\"data row8 col1\" >Male</td>\n",
       "      <td id=\"T_0f59f_row8_col2\" class=\"data row8 col2\" >Computer Science</td>\n",
       "      <td id=\"T_0f59f_row8_col3\" class=\"data row8 col3\" >2</td>\n",
       "      <td id=\"T_0f59f_row8_col4\" class=\"data row8 col4\" >6</td>\n",
       "      <td id=\"T_0f59f_row8_col5\" class=\"data row8 col5\" >0</td>\n",
       "      <td id=\"T_0f59f_row8_col6\" class=\"data row8 col6\" >0</td>\n",
       "      <td id=\"T_0f59f_row8_col7\" class=\"data row8 col7\" >1</td>\n",
       "    </tr>\n",
       "    <tr>\n",
       "      <th id=\"T_0f59f_level0_row9\" class=\"row_heading level0 row9\" >9</th>\n",
       "      <td id=\"T_0f59f_row9_col0\" class=\"data row9 col0\" >21</td>\n",
       "      <td id=\"T_0f59f_row9_col1\" class=\"data row9 col1\" >Female</td>\n",
       "      <td id=\"T_0f59f_row9_col2\" class=\"data row9 col2\" >Computer Science</td>\n",
       "      <td id=\"T_0f59f_row9_col3\" class=\"data row9 col3\" >1</td>\n",
       "      <td id=\"T_0f59f_row9_col4\" class=\"data row9 col4\" >6</td>\n",
       "      <td id=\"T_0f59f_row9_col5\" class=\"data row9 col5\" >1</td>\n",
       "      <td id=\"T_0f59f_row9_col6\" class=\"data row9 col6\" >0</td>\n",
       "      <td id=\"T_0f59f_row9_col7\" class=\"data row9 col7\" >0</td>\n",
       "    </tr>\n",
       "  </tbody>\n",
       "</table>\n"
      ],
      "text/plain": [
       "<pandas.io.formats.style.Styler at 0x73b61222f690>"
      ]
     },
     "execution_count": 4,
     "metadata": {},
     "output_type": "execute_result"
    }
   ],
   "source": [
    "df=pd.read_csv(\"../input/engineering-placements-prediction/collegePlace.csv\")\n",
    "df.head(10).style.set_properties(**{\"background-color\": \"black\",\"color\": \"white\", \"border-color\": \"black\",\"font-size\":\"11.5pt\",'width': 200})"
   ]
  },
  {
   "cell_type": "code",
   "execution_count": 5,
   "metadata": {
    "execution": {
     "iopub.execute_input": "2023-04-08T18:17:24.957143Z",
     "iopub.status.busy": "2023-04-08T18:17:24.956763Z",
     "iopub.status.idle": "2023-04-08T18:17:24.962908Z",
     "shell.execute_reply": "2023-04-08T18:17:24.962040Z",
     "shell.execute_reply.started": "2023-04-08T18:17:24.957106Z"
    }
   },
   "outputs": [
    {
     "data": {
      "text/plain": [
       "(2966, 8)"
      ]
     },
     "execution_count": 5,
     "metadata": {},
     "output_type": "execute_result"
    }
   ],
   "source": [
    "#The shape of the dataset.....\n",
    "df.shape"
   ]
  },
  {
   "cell_type": "code",
   "execution_count": 6,
   "metadata": {
    "execution": {
     "iopub.execute_input": "2023-04-08T18:17:24.964676Z",
     "iopub.status.busy": "2023-04-08T18:17:24.964338Z",
     "iopub.status.idle": "2023-04-08T18:17:24.973412Z",
     "shell.execute_reply": "2023-04-08T18:17:24.972624Z",
     "shell.execute_reply.started": "2023-04-08T18:17:24.964642Z"
    }
   },
   "outputs": [
    {
     "data": {
      "text/plain": [
       "2"
      ]
     },
     "execution_count": 6,
     "metadata": {},
     "output_type": "execute_result"
    }
   ],
   "source": [
    "#The dimensions of the dataset.......\n",
    "df.ndim"
   ]
  },
  {
   "cell_type": "code",
   "execution_count": 7,
   "metadata": {
    "execution": {
     "iopub.execute_input": "2023-04-08T18:17:24.975123Z",
     "iopub.status.busy": "2023-04-08T18:17:24.974884Z",
     "iopub.status.idle": "2023-04-08T18:17:24.985698Z",
     "shell.execute_reply": "2023-04-08T18:17:24.984607Z",
     "shell.execute_reply.started": "2023-04-08T18:17:24.975093Z"
    }
   },
   "outputs": [
    {
     "data": {
      "text/plain": [
       "23728"
      ]
     },
     "execution_count": 7,
     "metadata": {},
     "output_type": "execute_result"
    }
   ],
   "source": [
    "#The size of the dataset.......\n",
    "df.size"
   ]
  },
  {
   "cell_type": "code",
   "execution_count": 8,
   "metadata": {
    "execution": {
     "iopub.execute_input": "2023-04-08T18:17:24.987651Z",
     "iopub.status.busy": "2023-04-08T18:17:24.987287Z",
     "iopub.status.idle": "2023-04-08T18:17:24.996800Z",
     "shell.execute_reply": "2023-04-08T18:17:24.996045Z",
     "shell.execute_reply.started": "2023-04-08T18:17:24.987597Z"
    }
   },
   "outputs": [
    {
     "data": {
      "text/plain": [
       "Index(['Age', 'Gender', 'Stream', 'Internships', 'CGPA', 'Hostel',\n",
       "       'HistoryOfBacklogs', 'PlacedOrNot'],\n",
       "      dtype='object')"
      ]
     },
     "execution_count": 8,
     "metadata": {},
     "output_type": "execute_result"
    }
   ],
   "source": [
    "#The columns we have in the dataset.....\n",
    "df.columns"
   ]
  },
  {
   "cell_type": "code",
   "execution_count": 9,
   "metadata": {
    "execution": {
     "iopub.execute_input": "2023-04-08T18:17:24.999700Z",
     "iopub.status.busy": "2023-04-08T18:17:24.999302Z",
     "iopub.status.idle": "2023-04-08T18:17:25.010278Z",
     "shell.execute_reply": "2023-04-08T18:17:25.009424Z",
     "shell.execute_reply.started": "2023-04-08T18:17:24.999663Z"
    }
   },
   "outputs": [
    {
     "data": {
      "text/plain": [
       "Age                   int64\n",
       "Gender               object\n",
       "Stream               object\n",
       "Internships           int64\n",
       "CGPA                  int64\n",
       "Hostel                int64\n",
       "HistoryOfBacklogs     int64\n",
       "PlacedOrNot           int64\n",
       "dtype: object"
      ]
     },
     "execution_count": 9,
     "metadata": {},
     "output_type": "execute_result"
    }
   ],
   "source": [
    "#The dtypes we have in the dataset.....\n",
    "df.dtypes"
   ]
  },
  {
   "cell_type": "code",
   "execution_count": 10,
   "metadata": {
    "execution": {
     "iopub.execute_input": "2023-04-08T18:17:25.011703Z",
     "iopub.status.busy": "2023-04-08T18:17:25.011310Z",
     "iopub.status.idle": "2023-04-08T18:17:25.034694Z",
     "shell.execute_reply": "2023-04-08T18:17:25.034129Z",
     "shell.execute_reply.started": "2023-04-08T18:17:25.011575Z"
    }
   },
   "outputs": [
    {
     "name": "stdout",
     "output_type": "stream",
     "text": [
      "<class 'pandas.core.frame.DataFrame'>\n",
      "RangeIndex: 2966 entries, 0 to 2965\n",
      "Data columns (total 8 columns):\n",
      " #   Column             Non-Null Count  Dtype \n",
      "---  ------             --------------  ----- \n",
      " 0   Age                2966 non-null   int64 \n",
      " 1   Gender             2966 non-null   object\n",
      " 2   Stream             2966 non-null   object\n",
      " 3   Internships        2966 non-null   int64 \n",
      " 4   CGPA               2966 non-null   int64 \n",
      " 5   Hostel             2966 non-null   int64 \n",
      " 6   HistoryOfBacklogs  2966 non-null   int64 \n",
      " 7   PlacedOrNot        2966 non-null   int64 \n",
      "dtypes: int64(6), object(2)\n",
      "memory usage: 185.5+ KB\n"
     ]
    }
   ],
   "source": [
    "#The Information of the Dataset\n",
    "df.info()"
   ]
  },
  {
   "cell_type": "code",
   "execution_count": 12,
   "metadata": {
    "execution": {
     "iopub.execute_input": "2023-04-08T18:17:25.646420Z",
     "iopub.status.busy": "2023-04-08T18:17:25.645769Z",
     "iopub.status.idle": "2023-04-08T18:17:25.656206Z",
     "shell.execute_reply": "2023-04-08T18:17:25.655218Z",
     "shell.execute_reply.started": "2023-04-08T18:17:25.646382Z"
    }
   },
   "outputs": [
    {
     "data": {
      "text/plain": [
       "1829"
      ]
     },
     "execution_count": 12,
     "metadata": {},
     "output_type": "execute_result"
    }
   ],
   "source": [
    "df.duplicated().sum()"
   ]
  },
  {
   "cell_type": "code",
   "execution_count": 13,
   "metadata": {
    "execution": {
     "iopub.execute_input": "2023-04-08T18:17:25.657622Z",
     "iopub.status.busy": "2023-04-08T18:17:25.657396Z",
     "iopub.status.idle": "2023-04-08T18:17:25.665310Z",
     "shell.execute_reply": "2023-04-08T18:17:25.664557Z",
     "shell.execute_reply.started": "2023-04-08T18:17:25.657595Z"
    }
   },
   "outputs": [],
   "source": [
    "df.drop_duplicates(inplace=True)"
   ]
  },
  {
   "cell_type": "code",
   "execution_count": 14,
   "metadata": {
    "execution": {
     "iopub.execute_input": "2023-04-08T18:17:25.666891Z",
     "iopub.status.busy": "2023-04-08T18:17:25.666654Z",
     "iopub.status.idle": "2023-04-08T18:17:25.677832Z",
     "shell.execute_reply": "2023-04-08T18:17:25.676933Z",
     "shell.execute_reply.started": "2023-04-08T18:17:25.666864Z"
    }
   },
   "outputs": [
    {
     "data": {
      "text/plain": [
       "Age                  0.817990\n",
       "Internships          0.697572\n",
       "CGPA                 0.122766\n",
       "Hostel               0.699651\n",
       "HistoryOfBacklogs    0.892883\n",
       "PlacedOrNot         -0.322920\n",
       "dtype: float64"
      ]
     },
     "execution_count": 14,
     "metadata": {},
     "output_type": "execute_result"
    }
   ],
   "source": [
    "df.skew()\n"
   ]
  },
  {
   "cell_type": "code",
   "execution_count": 15,
   "metadata": {
    "execution": {
     "iopub.execute_input": "2023-04-08T18:17:25.679731Z",
     "iopub.status.busy": "2023-04-08T18:17:25.679284Z",
     "iopub.status.idle": "2023-04-08T18:17:25.718841Z",
     "shell.execute_reply": "2023-04-08T18:17:25.718218Z",
     "shell.execute_reply.started": "2023-04-08T18:17:25.679686Z"
    }
   },
   "outputs": [
    {
     "data": {
      "text/html": [
       "<style type=\"text/css\">\n",
       "#T_37f09_row0_col0, #T_37f09_row0_col1, #T_37f09_row0_col2, #T_37f09_row0_col3, #T_37f09_row0_col4, #T_37f09_row0_col5, #T_37f09_row1_col0, #T_37f09_row1_col1, #T_37f09_row1_col2, #T_37f09_row1_col3, #T_37f09_row1_col4, #T_37f09_row1_col5, #T_37f09_row2_col0, #T_37f09_row2_col1, #T_37f09_row2_col2, #T_37f09_row2_col3, #T_37f09_row2_col4, #T_37f09_row2_col5, #T_37f09_row3_col0, #T_37f09_row3_col1, #T_37f09_row3_col2, #T_37f09_row3_col3, #T_37f09_row3_col4, #T_37f09_row3_col5, #T_37f09_row4_col0, #T_37f09_row4_col1, #T_37f09_row4_col2, #T_37f09_row4_col3, #T_37f09_row4_col4, #T_37f09_row4_col5, #T_37f09_row5_col0, #T_37f09_row5_col1, #T_37f09_row5_col2, #T_37f09_row5_col3, #T_37f09_row5_col4, #T_37f09_row5_col5, #T_37f09_row6_col0, #T_37f09_row6_col1, #T_37f09_row6_col2, #T_37f09_row6_col3, #T_37f09_row6_col4, #T_37f09_row6_col5, #T_37f09_row7_col0, #T_37f09_row7_col1, #T_37f09_row7_col2, #T_37f09_row7_col3, #T_37f09_row7_col4, #T_37f09_row7_col5 {\n",
       "  background-color: black;\n",
       "  color: white;\n",
       "  border-color: black;\n",
       "  font-size: 11.5pt;\n",
       "  width: 200;\n",
       "}\n",
       "</style>\n",
       "<table id=\"T_37f09_\">\n",
       "  <thead>\n",
       "    <tr>\n",
       "      <th class=\"blank level0\" >&nbsp;</th>\n",
       "      <th class=\"col_heading level0 col0\" >Age</th>\n",
       "      <th class=\"col_heading level0 col1\" >Internships</th>\n",
       "      <th class=\"col_heading level0 col2\" >CGPA</th>\n",
       "      <th class=\"col_heading level0 col3\" >Hostel</th>\n",
       "      <th class=\"col_heading level0 col4\" >HistoryOfBacklogs</th>\n",
       "      <th class=\"col_heading level0 col5\" >PlacedOrNot</th>\n",
       "    </tr>\n",
       "  </thead>\n",
       "  <tbody>\n",
       "    <tr>\n",
       "      <th id=\"T_37f09_level0_row0\" class=\"row_heading level0 row0\" >count</th>\n",
       "      <td id=\"T_37f09_row0_col0\" class=\"data row0 col0\" >1137.000000</td>\n",
       "      <td id=\"T_37f09_row0_col1\" class=\"data row0 col1\" >1137.000000</td>\n",
       "      <td id=\"T_37f09_row0_col2\" class=\"data row0 col2\" >1137.000000</td>\n",
       "      <td id=\"T_37f09_row0_col3\" class=\"data row0 col3\" >1137.000000</td>\n",
       "      <td id=\"T_37f09_row0_col4\" class=\"data row0 col4\" >1137.000000</td>\n",
       "      <td id=\"T_37f09_row0_col5\" class=\"data row0 col5\" >1137.000000</td>\n",
       "    </tr>\n",
       "    <tr>\n",
       "      <th id=\"T_37f09_level0_row1\" class=\"row_heading level0 row1\" >mean</th>\n",
       "      <td id=\"T_37f09_row1_col0\" class=\"data row1 col0\" >21.640000</td>\n",
       "      <td id=\"T_37f09_row1_col1\" class=\"data row1 col1\" >0.850000</td>\n",
       "      <td id=\"T_37f09_row1_col2\" class=\"data row1 col2\" >6.990000</td>\n",
       "      <td id=\"T_37f09_row1_col3\" class=\"data row1 col3\" >0.340000</td>\n",
       "      <td id=\"T_37f09_row1_col4\" class=\"data row1 col4\" >0.300000</td>\n",
       "      <td id=\"T_37f09_row1_col5\" class=\"data row1 col5\" >0.580000</td>\n",
       "    </tr>\n",
       "    <tr>\n",
       "      <th id=\"T_37f09_level0_row2\" class=\"row_heading level0 row2\" >std</th>\n",
       "      <td id=\"T_37f09_row2_col0\" class=\"data row2 col0\" >1.720000</td>\n",
       "      <td id=\"T_37f09_row2_col1\" class=\"data row2 col1\" >0.830000</td>\n",
       "      <td id=\"T_37f09_row2_col2\" class=\"data row2 col2\" >1.070000</td>\n",
       "      <td id=\"T_37f09_row2_col3\" class=\"data row2 col3\" >0.470000</td>\n",
       "      <td id=\"T_37f09_row2_col4\" class=\"data row2 col4\" >0.460000</td>\n",
       "      <td id=\"T_37f09_row2_col5\" class=\"data row2 col5\" >0.490000</td>\n",
       "    </tr>\n",
       "    <tr>\n",
       "      <th id=\"T_37f09_level0_row3\" class=\"row_heading level0 row3\" >min</th>\n",
       "      <td id=\"T_37f09_row3_col0\" class=\"data row3 col0\" >19.000000</td>\n",
       "      <td id=\"T_37f09_row3_col1\" class=\"data row3 col1\" >0.000000</td>\n",
       "      <td id=\"T_37f09_row3_col2\" class=\"data row3 col2\" >5.000000</td>\n",
       "      <td id=\"T_37f09_row3_col3\" class=\"data row3 col3\" >0.000000</td>\n",
       "      <td id=\"T_37f09_row3_col4\" class=\"data row3 col4\" >0.000000</td>\n",
       "      <td id=\"T_37f09_row3_col5\" class=\"data row3 col5\" >0.000000</td>\n",
       "    </tr>\n",
       "    <tr>\n",
       "      <th id=\"T_37f09_level0_row4\" class=\"row_heading level0 row4\" >25%</th>\n",
       "      <td id=\"T_37f09_row4_col0\" class=\"data row4 col0\" >21.000000</td>\n",
       "      <td id=\"T_37f09_row4_col1\" class=\"data row4 col1\" >0.000000</td>\n",
       "      <td id=\"T_37f09_row4_col2\" class=\"data row4 col2\" >6.000000</td>\n",
       "      <td id=\"T_37f09_row4_col3\" class=\"data row4 col3\" >0.000000</td>\n",
       "      <td id=\"T_37f09_row4_col4\" class=\"data row4 col4\" >0.000000</td>\n",
       "      <td id=\"T_37f09_row4_col5\" class=\"data row4 col5\" >0.000000</td>\n",
       "    </tr>\n",
       "    <tr>\n",
       "      <th id=\"T_37f09_level0_row5\" class=\"row_heading level0 row5\" >50%</th>\n",
       "      <td id=\"T_37f09_row5_col0\" class=\"data row5 col0\" >21.000000</td>\n",
       "      <td id=\"T_37f09_row5_col1\" class=\"data row5 col1\" >1.000000</td>\n",
       "      <td id=\"T_37f09_row5_col2\" class=\"data row5 col2\" >7.000000</td>\n",
       "      <td id=\"T_37f09_row5_col3\" class=\"data row5 col3\" >0.000000</td>\n",
       "      <td id=\"T_37f09_row5_col4\" class=\"data row5 col4\" >0.000000</td>\n",
       "      <td id=\"T_37f09_row5_col5\" class=\"data row5 col5\" >1.000000</td>\n",
       "    </tr>\n",
       "    <tr>\n",
       "      <th id=\"T_37f09_level0_row6\" class=\"row_heading level0 row6\" >75%</th>\n",
       "      <td id=\"T_37f09_row6_col0\" class=\"data row6 col0\" >22.000000</td>\n",
       "      <td id=\"T_37f09_row6_col1\" class=\"data row6 col1\" >1.000000</td>\n",
       "      <td id=\"T_37f09_row6_col2\" class=\"data row6 col2\" >8.000000</td>\n",
       "      <td id=\"T_37f09_row6_col3\" class=\"data row6 col3\" >1.000000</td>\n",
       "      <td id=\"T_37f09_row6_col4\" class=\"data row6 col4\" >1.000000</td>\n",
       "      <td id=\"T_37f09_row6_col5\" class=\"data row6 col5\" >1.000000</td>\n",
       "    </tr>\n",
       "    <tr>\n",
       "      <th id=\"T_37f09_level0_row7\" class=\"row_heading level0 row7\" >max</th>\n",
       "      <td id=\"T_37f09_row7_col0\" class=\"data row7 col0\" >30.000000</td>\n",
       "      <td id=\"T_37f09_row7_col1\" class=\"data row7 col1\" >3.000000</td>\n",
       "      <td id=\"T_37f09_row7_col2\" class=\"data row7 col2\" >9.000000</td>\n",
       "      <td id=\"T_37f09_row7_col3\" class=\"data row7 col3\" >1.000000</td>\n",
       "      <td id=\"T_37f09_row7_col4\" class=\"data row7 col4\" >1.000000</td>\n",
       "      <td id=\"T_37f09_row7_col5\" class=\"data row7 col5\" >1.000000</td>\n",
       "    </tr>\n",
       "  </tbody>\n",
       "</table>\n"
      ],
      "text/plain": [
       "<pandas.io.formats.style.Styler at 0x73b60973ab90>"
      ]
     },
     "execution_count": 15,
     "metadata": {},
     "output_type": "execute_result"
    }
   ],
   "source": [
    "# statistics on Categorical data......\n",
    "round(df.describe(exclude = 'object'), 2).style.set_properties(**{\"background-color\": \"black\",\"color\": \"white\", \"border-color\": \"black\",\"font-size\":\"11.5pt\",'width': 200})"
   ]
  },
  {
   "cell_type": "code",
   "execution_count": 16,
   "metadata": {
    "execution": {
     "iopub.execute_input": "2023-04-08T18:17:25.720131Z",
     "iopub.status.busy": "2023-04-08T18:17:25.719781Z",
     "iopub.status.idle": "2023-04-08T18:17:25.737608Z",
     "shell.execute_reply": "2023-04-08T18:17:25.737048Z",
     "shell.execute_reply.started": "2023-04-08T18:17:25.720102Z"
    }
   },
   "outputs": [
    {
     "data": {
      "text/html": [
       "<style type=\"text/css\">\n",
       "#T_7b56e_row0_col0, #T_7b56e_row0_col1, #T_7b56e_row1_col0, #T_7b56e_row1_col1, #T_7b56e_row2_col0, #T_7b56e_row2_col1, #T_7b56e_row3_col0, #T_7b56e_row3_col1 {\n",
       "  background-color: black;\n",
       "  color: white;\n",
       "  border-color: black;\n",
       "  font-size: 11.5pt;\n",
       "  width: 200;\n",
       "}\n",
       "</style>\n",
       "<table id=\"T_7b56e_\">\n",
       "  <thead>\n",
       "    <tr>\n",
       "      <th class=\"blank level0\" >&nbsp;</th>\n",
       "      <th class=\"col_heading level0 col0\" >Gender</th>\n",
       "      <th class=\"col_heading level0 col1\" >Stream</th>\n",
       "    </tr>\n",
       "  </thead>\n",
       "  <tbody>\n",
       "    <tr>\n",
       "      <th id=\"T_7b56e_level0_row0\" class=\"row_heading level0 row0\" >count</th>\n",
       "      <td id=\"T_7b56e_row0_col0\" class=\"data row0 col0\" >1137</td>\n",
       "      <td id=\"T_7b56e_row0_col1\" class=\"data row0 col1\" >1137</td>\n",
       "    </tr>\n",
       "    <tr>\n",
       "      <th id=\"T_7b56e_level0_row1\" class=\"row_heading level0 row1\" >unique</th>\n",
       "      <td id=\"T_7b56e_row1_col0\" class=\"data row1 col0\" >2</td>\n",
       "      <td id=\"T_7b56e_row1_col1\" class=\"data row1 col1\" >6</td>\n",
       "    </tr>\n",
       "    <tr>\n",
       "      <th id=\"T_7b56e_level0_row2\" class=\"row_heading level0 row2\" >top</th>\n",
       "      <td id=\"T_7b56e_row2_col0\" class=\"data row2 col0\" >Male</td>\n",
       "      <td id=\"T_7b56e_row2_col1\" class=\"data row2 col1\" >Computer Science</td>\n",
       "    </tr>\n",
       "    <tr>\n",
       "      <th id=\"T_7b56e_level0_row3\" class=\"row_heading level0 row3\" >freq</th>\n",
       "      <td id=\"T_7b56e_row3_col0\" class=\"data row3 col0\" >846</td>\n",
       "      <td id=\"T_7b56e_row3_col1\" class=\"data row3 col1\" >243</td>\n",
       "    </tr>\n",
       "  </tbody>\n",
       "</table>\n"
      ],
      "text/plain": [
       "<pandas.io.formats.style.Styler at 0x73b609714550>"
      ]
     },
     "execution_count": 16,
     "metadata": {},
     "output_type": "execute_result"
    }
   ],
   "source": [
    "# statistics on numerical data\n",
    "round(df.describe(exclude = ['float', 'int64']),2).style.set_properties(**{\"background-color\": \"black\",\"color\": \"white\", \"border-color\": \"black\",\"font-size\":\"11.5pt\",'width': 200})"
   ]
  },
  {
   "cell_type": "code",
   "execution_count": 17,
   "metadata": {
    "execution": {
     "iopub.execute_input": "2023-04-08T18:17:25.739098Z",
     "iopub.status.busy": "2023-04-08T18:17:25.738661Z",
     "iopub.status.idle": "2023-04-08T18:17:25.765164Z",
     "shell.execute_reply": "2023-04-08T18:17:25.764197Z",
     "shell.execute_reply.started": "2023-04-08T18:17:25.739066Z"
    }
   },
   "outputs": [
    {
     "name": "stdout",
     "output_type": "stream",
     "text": [
      "Number of numerical variables:  6\n",
      "\n",
      "\n",
      "Numeric Column name ['Age', 'Internships', 'CGPA', 'Hostel', 'HistoryOfBacklogs', 'PlacedOrNot']\n",
      "\n",
      "\n"
     ]
    },
    {
     "data": {
      "text/html": [
       "<style type=\"text/css\">\n",
       "#T_32564_row0_col0, #T_32564_row0_col1, #T_32564_row0_col2, #T_32564_row0_col3, #T_32564_row0_col4, #T_32564_row0_col5, #T_32564_row1_col0, #T_32564_row1_col1, #T_32564_row1_col2, #T_32564_row1_col3, #T_32564_row1_col4, #T_32564_row1_col5, #T_32564_row2_col0, #T_32564_row2_col1, #T_32564_row2_col2, #T_32564_row2_col3, #T_32564_row2_col4, #T_32564_row2_col5, #T_32564_row3_col0, #T_32564_row3_col1, #T_32564_row3_col2, #T_32564_row3_col3, #T_32564_row3_col4, #T_32564_row3_col5, #T_32564_row4_col0, #T_32564_row4_col1, #T_32564_row4_col2, #T_32564_row4_col3, #T_32564_row4_col4, #T_32564_row4_col5 {\n",
       "  background-color: black;\n",
       "  color: white;\n",
       "  border-color: black;\n",
       "  font-size: 11.5pt;\n",
       "  width: 200;\n",
       "}\n",
       "</style>\n",
       "<table id=\"T_32564_\">\n",
       "  <thead>\n",
       "    <tr>\n",
       "      <th class=\"blank level0\" >&nbsp;</th>\n",
       "      <th class=\"col_heading level0 col0\" >Age</th>\n",
       "      <th class=\"col_heading level0 col1\" >Internships</th>\n",
       "      <th class=\"col_heading level0 col2\" >CGPA</th>\n",
       "      <th class=\"col_heading level0 col3\" >Hostel</th>\n",
       "      <th class=\"col_heading level0 col4\" >HistoryOfBacklogs</th>\n",
       "      <th class=\"col_heading level0 col5\" >PlacedOrNot</th>\n",
       "    </tr>\n",
       "  </thead>\n",
       "  <tbody>\n",
       "    <tr>\n",
       "      <th id=\"T_32564_level0_row0\" class=\"row_heading level0 row0\" >0</th>\n",
       "      <td id=\"T_32564_row0_col0\" class=\"data row0 col0\" >22</td>\n",
       "      <td id=\"T_32564_row0_col1\" class=\"data row0 col1\" >1</td>\n",
       "      <td id=\"T_32564_row0_col2\" class=\"data row0 col2\" >8</td>\n",
       "      <td id=\"T_32564_row0_col3\" class=\"data row0 col3\" >1</td>\n",
       "      <td id=\"T_32564_row0_col4\" class=\"data row0 col4\" >1</td>\n",
       "      <td id=\"T_32564_row0_col5\" class=\"data row0 col5\" >1</td>\n",
       "    </tr>\n",
       "    <tr>\n",
       "      <th id=\"T_32564_level0_row1\" class=\"row_heading level0 row1\" >1</th>\n",
       "      <td id=\"T_32564_row1_col0\" class=\"data row1 col0\" >21</td>\n",
       "      <td id=\"T_32564_row1_col1\" class=\"data row1 col1\" >0</td>\n",
       "      <td id=\"T_32564_row1_col2\" class=\"data row1 col2\" >7</td>\n",
       "      <td id=\"T_32564_row1_col3\" class=\"data row1 col3\" >1</td>\n",
       "      <td id=\"T_32564_row1_col4\" class=\"data row1 col4\" >1</td>\n",
       "      <td id=\"T_32564_row1_col5\" class=\"data row1 col5\" >1</td>\n",
       "    </tr>\n",
       "    <tr>\n",
       "      <th id=\"T_32564_level0_row2\" class=\"row_heading level0 row2\" >2</th>\n",
       "      <td id=\"T_32564_row2_col0\" class=\"data row2 col0\" >22</td>\n",
       "      <td id=\"T_32564_row2_col1\" class=\"data row2 col1\" >1</td>\n",
       "      <td id=\"T_32564_row2_col2\" class=\"data row2 col2\" >6</td>\n",
       "      <td id=\"T_32564_row2_col3\" class=\"data row2 col3\" >0</td>\n",
       "      <td id=\"T_32564_row2_col4\" class=\"data row2 col4\" >0</td>\n",
       "      <td id=\"T_32564_row2_col5\" class=\"data row2 col5\" >1</td>\n",
       "    </tr>\n",
       "    <tr>\n",
       "      <th id=\"T_32564_level0_row3\" class=\"row_heading level0 row3\" >3</th>\n",
       "      <td id=\"T_32564_row3_col0\" class=\"data row3 col0\" >21</td>\n",
       "      <td id=\"T_32564_row3_col1\" class=\"data row3 col1\" >0</td>\n",
       "      <td id=\"T_32564_row3_col2\" class=\"data row3 col2\" >8</td>\n",
       "      <td id=\"T_32564_row3_col3\" class=\"data row3 col3\" >0</td>\n",
       "      <td id=\"T_32564_row3_col4\" class=\"data row3 col4\" >1</td>\n",
       "      <td id=\"T_32564_row3_col5\" class=\"data row3 col5\" >1</td>\n",
       "    </tr>\n",
       "    <tr>\n",
       "      <th id=\"T_32564_level0_row4\" class=\"row_heading level0 row4\" >4</th>\n",
       "      <td id=\"T_32564_row4_col0\" class=\"data row4 col0\" >22</td>\n",
       "      <td id=\"T_32564_row4_col1\" class=\"data row4 col1\" >0</td>\n",
       "      <td id=\"T_32564_row4_col2\" class=\"data row4 col2\" >8</td>\n",
       "      <td id=\"T_32564_row4_col3\" class=\"data row4 col3\" >1</td>\n",
       "      <td id=\"T_32564_row4_col4\" class=\"data row4 col4\" >0</td>\n",
       "      <td id=\"T_32564_row4_col5\" class=\"data row4 col5\" >1</td>\n",
       "    </tr>\n",
       "  </tbody>\n",
       "</table>\n"
      ],
      "text/plain": [
       "<pandas.io.formats.style.Styler at 0x73b60916f590>"
      ]
     },
     "execution_count": 17,
     "metadata": {},
     "output_type": "execute_result"
    }
   ],
   "source": [
    "# list of numerical variables............\n",
    "numerical_features = [feature for feature in df.columns if df[feature].dtypes != 'O']\n",
    "\n",
    "print('Number of numerical variables: ', len(numerical_features))\n",
    "print('\\n')\n",
    "\n",
    "print('Numeric Column name',numerical_features)\n",
    "print('\\n')\n",
    "# visualise the numerical variables........\n",
    "df[numerical_features].head().style.set_properties(**{\"background-color\": \"black\",\"color\": \"white\", \"border-color\": \"black\",\"font-size\":\"11.5pt\",'width': 200})"
   ]
  },
  {
   "cell_type": "code",
   "execution_count": 19,
   "metadata": {
    "_kg_hide-input": true,
    "execution": {
     "iopub.execute_input": "2023-04-08T18:17:25.774235Z",
     "iopub.status.busy": "2023-04-08T18:17:25.773978Z",
     "iopub.status.idle": "2023-04-08T18:17:25.790957Z",
     "shell.execute_reply": "2023-04-08T18:17:25.789977Z",
     "shell.execute_reply.started": "2023-04-08T18:17:25.774188Z"
    }
   },
   "outputs": [
    {
     "data": {
      "text/html": [
       "<table><tr style=\"background-color:white;\"><td><style type=\"text/css\">\n",
       "#T_a2ccc_row0_col0, #T_a2ccc_row1_col0, #T_a2ccc_row2_col0, #T_a2ccc_row3_col0, #T_a2ccc_row4_col0, #T_a2ccc_row5_col0, #T_a2ccc_row6_col0, #T_a2ccc_row7_col0, #T_a2ccc_row8_col0, #T_a2ccc_row9_col0, #T_a2ccc_row10_col0 {\n",
       "  background-color: black;\n",
       "  color: white;\n",
       "  border-color: black;\n",
       "  font-size: 11.5pt;\n",
       "  width: 200;\n",
       "}\n",
       "</style>\n",
       "<table id=\"T_a2ccc_\">\n",
       "  <thead>\n",
       "    <tr>\n",
       "      <th class=\"blank level0\" >&nbsp;</th>\n",
       "      <th class=\"col_heading level0 col0\" >Age</th>\n",
       "    </tr>\n",
       "  </thead>\n",
       "  <tbody>\n",
       "    <tr>\n",
       "      <th id=\"T_a2ccc_level0_row0\" class=\"row_heading level0 row0\" >21</th>\n",
       "      <td id=\"T_a2ccc_row0_col0\" class=\"data row0 col0\" >302</td>\n",
       "    </tr>\n",
       "    <tr>\n",
       "      <th id=\"T_a2ccc_level0_row1\" class=\"row_heading level0 row1\" >22</th>\n",
       "      <td id=\"T_a2ccc_row1_col0\" class=\"data row1 col0\" >282</td>\n",
       "    </tr>\n",
       "    <tr>\n",
       "      <th id=\"T_a2ccc_level0_row2\" class=\"row_heading level0 row2\" >20</th>\n",
       "      <td id=\"T_a2ccc_row2_col0\" class=\"data row2 col0\" >172</td>\n",
       "    </tr>\n",
       "    <tr>\n",
       "      <th id=\"T_a2ccc_level0_row3\" class=\"row_heading level0 row3\" >23</th>\n",
       "      <td id=\"T_a2ccc_row3_col0\" class=\"data row3 col0\" >123</td>\n",
       "    </tr>\n",
       "    <tr>\n",
       "      <th id=\"T_a2ccc_level0_row4\" class=\"row_heading level0 row4\" >19</th>\n",
       "      <td id=\"T_a2ccc_row4_col0\" class=\"data row4 col0\" >106</td>\n",
       "    </tr>\n",
       "    <tr>\n",
       "      <th id=\"T_a2ccc_level0_row5\" class=\"row_heading level0 row5\" >24</th>\n",
       "      <td id=\"T_a2ccc_row5_col0\" class=\"data row5 col0\" >83</td>\n",
       "    </tr>\n",
       "    <tr>\n",
       "      <th id=\"T_a2ccc_level0_row6\" class=\"row_heading level0 row6\" >26</th>\n",
       "      <td id=\"T_a2ccc_row6_col0\" class=\"data row6 col0\" >42</td>\n",
       "    </tr>\n",
       "    <tr>\n",
       "      <th id=\"T_a2ccc_level0_row7\" class=\"row_heading level0 row7\" >25</th>\n",
       "      <td id=\"T_a2ccc_row7_col0\" class=\"data row7 col0\" >22</td>\n",
       "    </tr>\n",
       "    <tr>\n",
       "      <th id=\"T_a2ccc_level0_row8\" class=\"row_heading level0 row8\" >28</th>\n",
       "      <td id=\"T_a2ccc_row8_col0\" class=\"data row8 col0\" >3</td>\n",
       "    </tr>\n",
       "    <tr>\n",
       "      <th id=\"T_a2ccc_level0_row9\" class=\"row_heading level0 row9\" >30</th>\n",
       "      <td id=\"T_a2ccc_row9_col0\" class=\"data row9 col0\" >1</td>\n",
       "    </tr>\n",
       "    <tr>\n",
       "      <th id=\"T_a2ccc_level0_row10\" class=\"row_heading level0 row10\" >29</th>\n",
       "      <td id=\"T_a2ccc_row10_col0\" class=\"data row10 col0\" >1</td>\n",
       "    </tr>\n",
       "  </tbody>\n",
       "</table>\n",
       "</td></tr></table>"
      ],
      "text/plain": [
       "<IPython.core.display.HTML object>"
      ]
     },
     "execution_count": 19,
     "metadata": {},
     "output_type": "execute_result"
    }
   ],
   "source": [
    "df_nunique = {var: pd.DataFrame(df[var].value_counts()) \n",
    "              for var in {'Age'}}\n",
    "multi_table([ df_nunique['Age'].style.set_properties(**{\"background-color\": \"black\",\"color\": \"white\", \"border-color\": \"black\",\"font-size\":\"11.5pt\",'width': 200})])"
   ]
  },
  {
   "cell_type": "code",
   "execution_count": 20,
   "metadata": {
    "execution": {
     "iopub.execute_input": "2023-04-08T18:17:25.792903Z",
     "iopub.status.busy": "2023-04-08T18:17:25.792214Z",
     "iopub.status.idle": "2023-04-08T18:17:25.801793Z",
     "shell.execute_reply": "2023-04-08T18:17:25.800858Z",
     "shell.execute_reply.started": "2023-04-08T18:17:25.792869Z"
    }
   },
   "outputs": [
    {
     "name": "stdout",
     "output_type": "stream",
     "text": [
      "Maximum age of the students: 30\n",
      "Manimum age of the students: 19\n",
      "Average age of the students: 21.641160949868073\n"
     ]
    }
   ],
   "source": [
    "print('Maximum age of the students:',df['Age'].max())\n",
    "print('Manimum age of the students:',df['Age'].min())\n",
    "print('Average age of the students:',df['Age'].mean())"
   ]
  },
  {
   "cell_type": "code",
   "execution_count": 54,
   "metadata": {
    "execution": {
     "iopub.execute_input": "2023-04-08T18:17:28.591186Z",
     "iopub.status.busy": "2023-04-08T18:17:28.590835Z",
     "iopub.status.idle": "2023-04-08T18:17:28.598045Z",
     "shell.execute_reply": "2023-04-08T18:17:28.597125Z",
     "shell.execute_reply.started": "2023-04-08T18:17:28.591101Z"
    }
   },
   "outputs": [],
   "source": [
    "# Changing the Gender to 0 and 1 (Hidden Input/Output)\n",
    "df[\"Gender\"] = df[\"Gender\"].map({\"Male\":1, \"Female\":0})"
   ]
  },
  {
   "cell_type": "code",
   "execution_count": 55,
   "metadata": {
    "execution": {
     "iopub.execute_input": "2023-04-08T18:17:28.599901Z",
     "iopub.status.busy": "2023-04-08T18:17:28.599384Z",
     "iopub.status.idle": "2023-04-08T18:17:28.611033Z",
     "shell.execute_reply": "2023-04-08T18:17:28.610188Z",
     "shell.execute_reply.started": "2023-04-08T18:17:28.599853Z"
    }
   },
   "outputs": [],
   "source": [
    "df.drop(['Age'], axis = 1,inplace = True)"
   ]
  },
  {
   "cell_type": "code",
   "execution_count": 56,
   "metadata": {
    "execution": {
     "iopub.execute_input": "2023-04-08T18:17:28.612548Z",
     "iopub.status.busy": "2023-04-08T18:17:28.612311Z",
     "iopub.status.idle": "2023-04-08T18:17:28.638209Z",
     "shell.execute_reply": "2023-04-08T18:17:28.637325Z",
     "shell.execute_reply.started": "2023-04-08T18:17:28.612519Z"
    }
   },
   "outputs": [
    {
     "data": {
      "text/html": [
       "<style type=\"text/css\">\n",
       "#T_94be3_row0_col0, #T_94be3_row0_col1, #T_94be3_row0_col2, #T_94be3_row0_col3, #T_94be3_row0_col4, #T_94be3_row0_col5, #T_94be3_row0_col6, #T_94be3_row0_col7, #T_94be3_row1_col0, #T_94be3_row1_col1, #T_94be3_row1_col2, #T_94be3_row1_col3, #T_94be3_row1_col4, #T_94be3_row1_col5, #T_94be3_row1_col6, #T_94be3_row1_col7, #T_94be3_row2_col0, #T_94be3_row2_col1, #T_94be3_row2_col2, #T_94be3_row2_col3, #T_94be3_row2_col4, #T_94be3_row2_col5, #T_94be3_row2_col6, #T_94be3_row2_col7, #T_94be3_row3_col0, #T_94be3_row3_col1, #T_94be3_row3_col2, #T_94be3_row3_col3, #T_94be3_row3_col4, #T_94be3_row3_col5, #T_94be3_row3_col6, #T_94be3_row3_col7, #T_94be3_row4_col0, #T_94be3_row4_col1, #T_94be3_row4_col2, #T_94be3_row4_col3, #T_94be3_row4_col4, #T_94be3_row4_col5, #T_94be3_row4_col6, #T_94be3_row4_col7 {\n",
       "  background-color: black;\n",
       "  color: white;\n",
       "  border-color: black;\n",
       "  font-size: 11.5pt;\n",
       "  width: 200;\n",
       "}\n",
       "</style>\n",
       "<table id=\"T_94be3_\">\n",
       "  <thead>\n",
       "    <tr>\n",
       "      <th class=\"blank level0\" >&nbsp;</th>\n",
       "      <th class=\"col_heading level0 col0\" >Gender</th>\n",
       "      <th class=\"col_heading level0 col1\" >Stream</th>\n",
       "      <th class=\"col_heading level0 col2\" >Internships</th>\n",
       "      <th class=\"col_heading level0 col3\" >CGPA</th>\n",
       "      <th class=\"col_heading level0 col4\" >Hostel</th>\n",
       "      <th class=\"col_heading level0 col5\" >HistoryOfBacklogs</th>\n",
       "      <th class=\"col_heading level0 col6\" >PlacedOrNot</th>\n",
       "      <th class=\"col_heading level0 col7\" >Student_Age</th>\n",
       "    </tr>\n",
       "  </thead>\n",
       "  <tbody>\n",
       "    <tr>\n",
       "      <th id=\"T_94be3_level0_row0\" class=\"row_heading level0 row0\" >0</th>\n",
       "      <td id=\"T_94be3_row0_col0\" class=\"data row0 col0\" >1</td>\n",
       "      <td id=\"T_94be3_row0_col1\" class=\"data row0 col1\" >Electronics And Communication</td>\n",
       "      <td id=\"T_94be3_row0_col2\" class=\"data row0 col2\" >1</td>\n",
       "      <td id=\"T_94be3_row0_col3\" class=\"data row0 col3\" >8</td>\n",
       "      <td id=\"T_94be3_row0_col4\" class=\"data row0 col4\" >1</td>\n",
       "      <td id=\"T_94be3_row0_col5\" class=\"data row0 col5\" >1</td>\n",
       "      <td id=\"T_94be3_row0_col6\" class=\"data row0 col6\" >1</td>\n",
       "      <td id=\"T_94be3_row0_col7\" class=\"data row0 col7\" >0</td>\n",
       "    </tr>\n",
       "    <tr>\n",
       "      <th id=\"T_94be3_level0_row1\" class=\"row_heading level0 row1\" >1</th>\n",
       "      <td id=\"T_94be3_row1_col0\" class=\"data row1 col0\" >0</td>\n",
       "      <td id=\"T_94be3_row1_col1\" class=\"data row1 col1\" >Computer Science</td>\n",
       "      <td id=\"T_94be3_row1_col2\" class=\"data row1 col2\" >0</td>\n",
       "      <td id=\"T_94be3_row1_col3\" class=\"data row1 col3\" >7</td>\n",
       "      <td id=\"T_94be3_row1_col4\" class=\"data row1 col4\" >1</td>\n",
       "      <td id=\"T_94be3_row1_col5\" class=\"data row1 col5\" >1</td>\n",
       "      <td id=\"T_94be3_row1_col6\" class=\"data row1 col6\" >1</td>\n",
       "      <td id=\"T_94be3_row1_col7\" class=\"data row1 col7\" >0</td>\n",
       "    </tr>\n",
       "    <tr>\n",
       "      <th id=\"T_94be3_level0_row2\" class=\"row_heading level0 row2\" >2</th>\n",
       "      <td id=\"T_94be3_row2_col0\" class=\"data row2 col0\" >0</td>\n",
       "      <td id=\"T_94be3_row2_col1\" class=\"data row2 col1\" >Information Technology</td>\n",
       "      <td id=\"T_94be3_row2_col2\" class=\"data row2 col2\" >1</td>\n",
       "      <td id=\"T_94be3_row2_col3\" class=\"data row2 col3\" >6</td>\n",
       "      <td id=\"T_94be3_row2_col4\" class=\"data row2 col4\" >0</td>\n",
       "      <td id=\"T_94be3_row2_col5\" class=\"data row2 col5\" >0</td>\n",
       "      <td id=\"T_94be3_row2_col6\" class=\"data row2 col6\" >1</td>\n",
       "      <td id=\"T_94be3_row2_col7\" class=\"data row2 col7\" >0</td>\n",
       "    </tr>\n",
       "    <tr>\n",
       "      <th id=\"T_94be3_level0_row3\" class=\"row_heading level0 row3\" >3</th>\n",
       "      <td id=\"T_94be3_row3_col0\" class=\"data row3 col0\" >1</td>\n",
       "      <td id=\"T_94be3_row3_col1\" class=\"data row3 col1\" >Information Technology</td>\n",
       "      <td id=\"T_94be3_row3_col2\" class=\"data row3 col2\" >0</td>\n",
       "      <td id=\"T_94be3_row3_col3\" class=\"data row3 col3\" >8</td>\n",
       "      <td id=\"T_94be3_row3_col4\" class=\"data row3 col4\" >0</td>\n",
       "      <td id=\"T_94be3_row3_col5\" class=\"data row3 col5\" >1</td>\n",
       "      <td id=\"T_94be3_row3_col6\" class=\"data row3 col6\" >1</td>\n",
       "      <td id=\"T_94be3_row3_col7\" class=\"data row3 col7\" >0</td>\n",
       "    </tr>\n",
       "    <tr>\n",
       "      <th id=\"T_94be3_level0_row4\" class=\"row_heading level0 row4\" >4</th>\n",
       "      <td id=\"T_94be3_row4_col0\" class=\"data row4 col0\" >1</td>\n",
       "      <td id=\"T_94be3_row4_col1\" class=\"data row4 col1\" >Mechanical</td>\n",
       "      <td id=\"T_94be3_row4_col2\" class=\"data row4 col2\" >0</td>\n",
       "      <td id=\"T_94be3_row4_col3\" class=\"data row4 col3\" >8</td>\n",
       "      <td id=\"T_94be3_row4_col4\" class=\"data row4 col4\" >1</td>\n",
       "      <td id=\"T_94be3_row4_col5\" class=\"data row4 col5\" >0</td>\n",
       "      <td id=\"T_94be3_row4_col6\" class=\"data row4 col6\" >1</td>\n",
       "      <td id=\"T_94be3_row4_col7\" class=\"data row4 col7\" >0</td>\n",
       "    </tr>\n",
       "  </tbody>\n",
       "</table>\n"
      ],
      "text/plain": [
       "<pandas.io.formats.style.Styler at 0x73b6085b9b90>"
      ]
     },
     "execution_count": 56,
     "metadata": {},
     "output_type": "execute_result"
    }
   ],
   "source": [
    "df.head(5).style.set_properties(**{\"background-color\": \"black\",\"color\": \"white\", \"border-color\": \"black\",\"font-size\":\"11.5pt\",'width': 200})"
   ]
  },
  {
   "cell_type": "code",
   "execution_count": 58,
   "metadata": {
    "execution": {
     "iopub.execute_input": "2023-04-08T18:17:40.063896Z",
     "iopub.status.busy": "2023-04-08T18:17:40.063350Z",
     "iopub.status.idle": "2023-04-08T18:17:40.769170Z",
     "shell.execute_reply": "2023-04-08T18:17:40.768209Z",
     "shell.execute_reply.started": "2023-04-08T18:17:40.063848Z"
    }
   },
   "outputs": [
    {
     "data": {
      "image/png": "[encoded data removed]",
      "text/plain": [
       "<Figure size 1440x1080 with 2 Axes>"
      ]
     },
     "metadata": {
      "needs_background": "light"
     },
     "output_type": "display_data"
    }
   ],
   "source": [
    "corrmat = df.corr()\n",
    "top_corr_features = corrmat.index\n",
    "\n",
    "plt.figure(figsize=(20,15))\n",
    "\n",
    "#plot heat map\n",
    "g=sns.heatmap(df[top_corr_features].corr(),annot=True,cmap=\"gist_yarg_r\",linewidths=3.5,\n",
    "    linecolor='white')"
   ]
  },
  {
   "cell_type": "code",
   "execution_count": 59,
   "metadata": {
    "execution": {
     "iopub.execute_input": "2023-04-08T18:17:40.770464Z",
     "iopub.status.busy": "2023-04-08T18:17:40.770229Z",
     "iopub.status.idle": "2023-04-08T18:17:41.062354Z",
     "shell.execute_reply": "2023-04-08T18:17:41.061763Z",
     "shell.execute_reply.started": "2023-04-08T18:17:40.770435Z"
    }
   },
   "outputs": [
    {
     "data": {
      "image/png": "[encoded data removed]",
      "text/plain": [
       "<Figure size 1008x576 with 1 Axes>"
      ]
     },
     "metadata": {},
     "output_type": "display_data"
    }
   ],
   "source": [
    "import matplotlib\n",
    "background_color = \"#f6f6f6\"\n",
    "\n",
    "fig = plt.figure(figsize=(14,8), facecolor=background_color)\n",
    "gs = fig.add_gridspec(1, 1)\n",
    "ax0 = fig.add_subplot(gs[0, 0])\n",
    "colors = [\"#c6ff1a\"]\n",
    "colormap = matplotlib.colors.LinearSegmentedColormap.from_list(\"\", colors)\n",
    "\n",
    "ax0.set_facecolor(background_color)\n",
    "ax0.text(-1.1, 1.25, 'Correlation of Numerical Features with Target', fontsize=20, fontweight='bold')\n",
    "\n",
    "chart_df = pd.DataFrame(df.corrwith(df['PlacedOrNot']))\n",
    "chart_df.columns = ['corr']\n",
    "sns.barplot(x=chart_df.index, y=chart_df['corr'], ax=ax0, color='#d2ff4d', zorder=3, edgecolor='black', linewidth=3)\n",
    "ax0.grid(which='major', axis='x', zorder=0, color='#EEEEEE', linewidth=0.4)\n",
    "ax0.grid(which='major', axis='y', zorder=0, color='#EEEEEE', linewidth=0.4)\n",
    "ax0.set_ylabel('')\n",
    "\n",
    "for s in [\"top\",\"right\", 'left']:\n",
    "    ax0.spines[s].set_visible(False)\n",
    "\n",
    "plt.show()"
   ]
  },
  {
   "cell_type": "code",
   "execution_count": 60,
   "metadata": {
    "_kg_hide-input": true,
    "execution": {
     "iopub.execute_input": "2023-04-08T18:17:41.064362Z",
     "iopub.status.busy": "2023-04-08T18:17:41.063584Z",
     "iopub.status.idle": "2023-04-08T18:17:41.069506Z",
     "shell.execute_reply": "2023-04-08T18:17:41.068556Z",
     "shell.execute_reply.started": "2023-04-08T18:17:41.064326Z"
    }
   },
   "outputs": [],
   "source": [
    "#Converting categorical into numeric.\n",
    "dummy_stream = pd.get_dummies(df['Stream'])"
   ]
  },
  {
   "cell_type": "code",
   "execution_count": 61,
   "metadata": {
    "_kg_hide-input": false,
    "execution": {
     "iopub.execute_input": "2023-04-08T18:17:41.071583Z",
     "iopub.status.busy": "2023-04-08T18:17:41.071216Z",
     "iopub.status.idle": "2023-04-08T18:17:41.104575Z",
     "shell.execute_reply": "2023-04-08T18:17:41.103899Z",
     "shell.execute_reply.started": "2023-04-08T18:17:41.071549Z"
    }
   },
   "outputs": [
    {
     "data": {
      "text/html": [
       "<style type=\"text/css\">\n",
       "#T_0a53d_row0_col0, #T_0a53d_row0_col1, #T_0a53d_row0_col2, #T_0a53d_row0_col3, #T_0a53d_row0_col4, #T_0a53d_row0_col5, #T_0a53d_row0_col6, #T_0a53d_row0_col7, #T_0a53d_row0_col8, #T_0a53d_row0_col9, #T_0a53d_row0_col10, #T_0a53d_row0_col11, #T_0a53d_row0_col12, #T_0a53d_row1_col0, #T_0a53d_row1_col1, #T_0a53d_row1_col2, #T_0a53d_row1_col3, #T_0a53d_row1_col4, #T_0a53d_row1_col5, #T_0a53d_row1_col6, #T_0a53d_row1_col7, #T_0a53d_row1_col8, #T_0a53d_row1_col9, #T_0a53d_row1_col10, #T_0a53d_row1_col11, #T_0a53d_row1_col12, #T_0a53d_row2_col0, #T_0a53d_row2_col1, #T_0a53d_row2_col2, #T_0a53d_row2_col3, #T_0a53d_row2_col4, #T_0a53d_row2_col5, #T_0a53d_row2_col6, #T_0a53d_row2_col7, #T_0a53d_row2_col8, #T_0a53d_row2_col9, #T_0a53d_row2_col10, #T_0a53d_row2_col11, #T_0a53d_row2_col12, #T_0a53d_row3_col0, #T_0a53d_row3_col1, #T_0a53d_row3_col2, #T_0a53d_row3_col3, #T_0a53d_row3_col4, #T_0a53d_row3_col5, #T_0a53d_row3_col6, #T_0a53d_row3_col7, #T_0a53d_row3_col8, #T_0a53d_row3_col9, #T_0a53d_row3_col10, #T_0a53d_row3_col11, #T_0a53d_row3_col12, #T_0a53d_row4_col0, #T_0a53d_row4_col1, #T_0a53d_row4_col2, #T_0a53d_row4_col3, #T_0a53d_row4_col4, #T_0a53d_row4_col5, #T_0a53d_row4_col6, #T_0a53d_row4_col7, #T_0a53d_row4_col8, #T_0a53d_row4_col9, #T_0a53d_row4_col10, #T_0a53d_row4_col11, #T_0a53d_row4_col12 {\n",
       "  background-color: black;\n",
       "  color: white;\n",
       "  border-color: black;\n",
       "  font-size: 11.5pt;\n",
       "  width: 200;\n",
       "}\n",
       "</style>\n",
       "<table id=\"T_0a53d_\">\n",
       "  <thead>\n",
       "    <tr>\n",
       "      <th class=\"blank level0\" >&nbsp;</th>\n",
       "      <th class=\"col_heading level0 col0\" >Gender</th>\n",
       "      <th class=\"col_heading level0 col1\" >Internships</th>\n",
       "      <th class=\"col_heading level0 col2\" >CGPA</th>\n",
       "      <th class=\"col_heading level0 col3\" >Hostel</th>\n",
       "      <th class=\"col_heading level0 col4\" >HistoryOfBacklogs</th>\n",
       "      <th class=\"col_heading level0 col5\" >PlacedOrNot</th>\n",
       "      <th class=\"col_heading level0 col6\" >Student_Age</th>\n",
       "      <th class=\"col_heading level0 col7\" >Civil</th>\n",
       "      <th class=\"col_heading level0 col8\" >Computer Science</th>\n",
       "      <th class=\"col_heading level0 col9\" >Electrical</th>\n",
       "      <th class=\"col_heading level0 col10\" >Electronics And Communication</th>\n",
       "      <th class=\"col_heading level0 col11\" >Information Technology</th>\n",
       "      <th class=\"col_heading level0 col12\" >Mechanical</th>\n",
       "    </tr>\n",
       "  </thead>\n",
       "  <tbody>\n",
       "    <tr>\n",
       "      <th id=\"T_0a53d_level0_row0\" class=\"row_heading level0 row0\" >0</th>\n",
       "      <td id=\"T_0a53d_row0_col0\" class=\"data row0 col0\" >1</td>\n",
       "      <td id=\"T_0a53d_row0_col1\" class=\"data row0 col1\" >1</td>\n",
       "      <td id=\"T_0a53d_row0_col2\" class=\"data row0 col2\" >8</td>\n",
       "      <td id=\"T_0a53d_row0_col3\" class=\"data row0 col3\" >1</td>\n",
       "      <td id=\"T_0a53d_row0_col4\" class=\"data row0 col4\" >1</td>\n",
       "      <td id=\"T_0a53d_row0_col5\" class=\"data row0 col5\" >1</td>\n",
       "      <td id=\"T_0a53d_row0_col6\" class=\"data row0 col6\" >0</td>\n",
       "      <td id=\"T_0a53d_row0_col7\" class=\"data row0 col7\" >0</td>\n",
       "      <td id=\"T_0a53d_row0_col8\" class=\"data row0 col8\" >0</td>\n",
       "      <td id=\"T_0a53d_row0_col9\" class=\"data row0 col9\" >0</td>\n",
       "      <td id=\"T_0a53d_row0_col10\" class=\"data row0 col10\" >1</td>\n",
       "      <td id=\"T_0a53d_row0_col11\" class=\"data row0 col11\" >0</td>\n",
       "      <td id=\"T_0a53d_row0_col12\" class=\"data row0 col12\" >0</td>\n",
       "    </tr>\n",
       "    <tr>\n",
       "      <th id=\"T_0a53d_level0_row1\" class=\"row_heading level0 row1\" >1</th>\n",
       "      <td id=\"T_0a53d_row1_col0\" class=\"data row1 col0\" >0</td>\n",
       "      <td id=\"T_0a53d_row1_col1\" class=\"data row1 col1\" >0</td>\n",
       "      <td id=\"T_0a53d_row1_col2\" class=\"data row1 col2\" >7</td>\n",
       "      <td id=\"T_0a53d_row1_col3\" class=\"data row1 col3\" >1</td>\n",
       "      <td id=\"T_0a53d_row1_col4\" class=\"data row1 col4\" >1</td>\n",
       "      <td id=\"T_0a53d_row1_col5\" class=\"data row1 col5\" >1</td>\n",
       "      <td id=\"T_0a53d_row1_col6\" class=\"data row1 col6\" >0</td>\n",
       "      <td id=\"T_0a53d_row1_col7\" class=\"data row1 col7\" >0</td>\n",
       "      <td id=\"T_0a53d_row1_col8\" class=\"data row1 col8\" >1</td>\n",
       "      <td id=\"T_0a53d_row1_col9\" class=\"data row1 col9\" >0</td>\n",
       "      <td id=\"T_0a53d_row1_col10\" class=\"data row1 col10\" >0</td>\n",
       "      <td id=\"T_0a53d_row1_col11\" class=\"data row1 col11\" >0</td>\n",
       "      <td id=\"T_0a53d_row1_col12\" class=\"data row1 col12\" >0</td>\n",
       "    </tr>\n",
       "    <tr>\n",
       "      <th id=\"T_0a53d_level0_row2\" class=\"row_heading level0 row2\" >2</th>\n",
       "      <td id=\"T_0a53d_row2_col0\" class=\"data row2 col0\" >0</td>\n",
       "      <td id=\"T_0a53d_row2_col1\" class=\"data row2 col1\" >1</td>\n",
       "      <td id=\"T_0a53d_row2_col2\" class=\"data row2 col2\" >6</td>\n",
       "      <td id=\"T_0a53d_row2_col3\" class=\"data row2 col3\" >0</td>\n",
       "      <td id=\"T_0a53d_row2_col4\" class=\"data row2 col4\" >0</td>\n",
       "      <td id=\"T_0a53d_row2_col5\" class=\"data row2 col5\" >1</td>\n",
       "      <td id=\"T_0a53d_row2_col6\" class=\"data row2 col6\" >0</td>\n",
       "      <td id=\"T_0a53d_row2_col7\" class=\"data row2 col7\" >0</td>\n",
       "      <td id=\"T_0a53d_row2_col8\" class=\"data row2 col8\" >0</td>\n",
       "      <td id=\"T_0a53d_row2_col9\" class=\"data row2 col9\" >0</td>\n",
       "      <td id=\"T_0a53d_row2_col10\" class=\"data row2 col10\" >0</td>\n",
       "      <td id=\"T_0a53d_row2_col11\" class=\"data row2 col11\" >1</td>\n",
       "      <td id=\"T_0a53d_row2_col12\" class=\"data row2 col12\" >0</td>\n",
       "    </tr>\n",
       "    <tr>\n",
       "      <th id=\"T_0a53d_level0_row3\" class=\"row_heading level0 row3\" >3</th>\n",
       "      <td id=\"T_0a53d_row3_col0\" class=\"data row3 col0\" >1</td>\n",
       "      <td id=\"T_0a53d_row3_col1\" class=\"data row3 col1\" >0</td>\n",
       "      <td id=\"T_0a53d_row3_col2\" class=\"data row3 col2\" >8</td>\n",
       "      <td id=\"T_0a53d_row3_col3\" class=\"data row3 col3\" >0</td>\n",
       "      <td id=\"T_0a53d_row3_col4\" class=\"data row3 col4\" >1</td>\n",
       "      <td id=\"T_0a53d_row3_col5\" class=\"data row3 col5\" >1</td>\n",
       "      <td id=\"T_0a53d_row3_col6\" class=\"data row3 col6\" >0</td>\n",
       "      <td id=\"T_0a53d_row3_col7\" class=\"data row3 col7\" >0</td>\n",
       "      <td id=\"T_0a53d_row3_col8\" class=\"data row3 col8\" >0</td>\n",
       "      <td id=\"T_0a53d_row3_col9\" class=\"data row3 col9\" >0</td>\n",
       "      <td id=\"T_0a53d_row3_col10\" class=\"data row3 col10\" >0</td>\n",
       "      <td id=\"T_0a53d_row3_col11\" class=\"data row3 col11\" >1</td>\n",
       "      <td id=\"T_0a53d_row3_col12\" class=\"data row3 col12\" >0</td>\n",
       "    </tr>\n",
       "    <tr>\n",
       "      <th id=\"T_0a53d_level0_row4\" class=\"row_heading level0 row4\" >4</th>\n",
       "      <td id=\"T_0a53d_row4_col0\" class=\"data row4 col0\" >1</td>\n",
       "      <td id=\"T_0a53d_row4_col1\" class=\"data row4 col1\" >0</td>\n",
       "      <td id=\"T_0a53d_row4_col2\" class=\"data row4 col2\" >8</td>\n",
       "      <td id=\"T_0a53d_row4_col3\" class=\"data row4 col3\" >1</td>\n",
       "      <td id=\"T_0a53d_row4_col4\" class=\"data row4 col4\" >0</td>\n",
       "      <td id=\"T_0a53d_row4_col5\" class=\"data row4 col5\" >1</td>\n",
       "      <td id=\"T_0a53d_row4_col6\" class=\"data row4 col6\" >0</td>\n",
       "      <td id=\"T_0a53d_row4_col7\" class=\"data row4 col7\" >0</td>\n",
       "      <td id=\"T_0a53d_row4_col8\" class=\"data row4 col8\" >0</td>\n",
       "      <td id=\"T_0a53d_row4_col9\" class=\"data row4 col9\" >0</td>\n",
       "      <td id=\"T_0a53d_row4_col10\" class=\"data row4 col10\" >0</td>\n",
       "      <td id=\"T_0a53d_row4_col11\" class=\"data row4 col11\" >0</td>\n",
       "      <td id=\"T_0a53d_row4_col12\" class=\"data row4 col12\" >1</td>\n",
       "    </tr>\n",
       "  </tbody>\n",
       "</table>\n"
      ],
      "text/plain": [
       "<pandas.io.formats.style.Styler at 0x73b6118a4f50>"
      ]
     },
     "execution_count": 61,
     "metadata": {},
     "output_type": "execute_result"
    }
   ],
   "source": [
    "df = pd.concat([df.drop([\"Stream\"], axis = 1),dummy_stream], axis = 1)\n",
    "\n",
    "df.head(5).style.set_properties(**{\"background-color\": \"black\",\"color\": \"white\", \"border-color\": \"black\",\"font-size\":\"11.5pt\",'width': 200})"
   ]
  },
  {
   "cell_type": "code",
   "execution_count": 62,
   "metadata": {
    "execution": {
     "iopub.execute_input": "2023-04-08T18:17:41.106363Z",
     "iopub.status.busy": "2023-04-08T18:17:41.106089Z",
     "iopub.status.idle": "2023-04-08T18:17:41.139954Z",
     "shell.execute_reply": "2023-04-08T18:17:41.138916Z",
     "shell.execute_reply.started": "2023-04-08T18:17:41.106331Z"
    }
   },
   "outputs": [
    {
     "data": {
      "text/html": [
       "<style type=\"text/css\">\n",
       "#T_16887_row0_col0, #T_16887_row0_col1, #T_16887_row0_col2, #T_16887_row0_col3, #T_16887_row0_col4, #T_16887_row0_col5, #T_16887_row0_col6, #T_16887_row0_col7, #T_16887_row0_col8, #T_16887_row0_col9, #T_16887_row0_col10, #T_16887_row0_col11, #T_16887_row0_col12, #T_16887_row1_col0, #T_16887_row1_col1, #T_16887_row1_col2, #T_16887_row1_col3, #T_16887_row1_col4, #T_16887_row1_col5, #T_16887_row1_col6, #T_16887_row1_col7, #T_16887_row1_col8, #T_16887_row1_col9, #T_16887_row1_col10, #T_16887_row1_col11, #T_16887_row1_col12, #T_16887_row2_col0, #T_16887_row2_col1, #T_16887_row2_col2, #T_16887_row2_col3, #T_16887_row2_col4, #T_16887_row2_col5, #T_16887_row2_col6, #T_16887_row2_col7, #T_16887_row2_col8, #T_16887_row2_col9, #T_16887_row2_col10, #T_16887_row2_col11, #T_16887_row2_col12, #T_16887_row3_col0, #T_16887_row3_col1, #T_16887_row3_col2, #T_16887_row3_col3, #T_16887_row3_col4, #T_16887_row3_col5, #T_16887_row3_col6, #T_16887_row3_col7, #T_16887_row3_col8, #T_16887_row3_col9, #T_16887_row3_col10, #T_16887_row3_col11, #T_16887_row3_col12, #T_16887_row4_col0, #T_16887_row4_col1, #T_16887_row4_col2, #T_16887_row4_col3, #T_16887_row4_col4, #T_16887_row4_col5, #T_16887_row4_col6, #T_16887_row4_col7, #T_16887_row4_col8, #T_16887_row4_col9, #T_16887_row4_col10, #T_16887_row4_col11, #T_16887_row4_col12 {\n",
       "  background-color: black;\n",
       "  color: white;\n",
       "  border-color: black;\n",
       "  font-size: 11.5pt;\n",
       "  width: 200;\n",
       "}\n",
       "</style>\n",
       "<table id=\"T_16887_\">\n",
       "  <thead>\n",
       "    <tr>\n",
       "      <th class=\"blank level0\" >&nbsp;</th>\n",
       "      <th class=\"col_heading level0 col0\" >Student_Age</th>\n",
       "      <th class=\"col_heading level0 col1\" >Gender</th>\n",
       "      <th class=\"col_heading level0 col2\" >Civil</th>\n",
       "      <th class=\"col_heading level0 col3\" >Computer Science</th>\n",
       "      <th class=\"col_heading level0 col4\" >Electrical</th>\n",
       "      <th class=\"col_heading level0 col5\" >Electronics And Communication</th>\n",
       "      <th class=\"col_heading level0 col6\" >Information Technology</th>\n",
       "      <th class=\"col_heading level0 col7\" >Mechanical</th>\n",
       "      <th class=\"col_heading level0 col8\" >Internships</th>\n",
       "      <th class=\"col_heading level0 col9\" >CGPA</th>\n",
       "      <th class=\"col_heading level0 col10\" >Hostel</th>\n",
       "      <th class=\"col_heading level0 col11\" >HistoryOfBacklogs</th>\n",
       "      <th class=\"col_heading level0 col12\" >PlacedOrNot</th>\n",
       "    </tr>\n",
       "  </thead>\n",
       "  <tbody>\n",
       "    <tr>\n",
       "      <th id=\"T_16887_level0_row0\" class=\"row_heading level0 row0\" >0</th>\n",
       "      <td id=\"T_16887_row0_col0\" class=\"data row0 col0\" >0</td>\n",
       "      <td id=\"T_16887_row0_col1\" class=\"data row0 col1\" >1</td>\n",
       "      <td id=\"T_16887_row0_col2\" class=\"data row0 col2\" >0</td>\n",
       "      <td id=\"T_16887_row0_col3\" class=\"data row0 col3\" >0</td>\n",
       "      <td id=\"T_16887_row0_col4\" class=\"data row0 col4\" >0</td>\n",
       "      <td id=\"T_16887_row0_col5\" class=\"data row0 col5\" >1</td>\n",
       "      <td id=\"T_16887_row0_col6\" class=\"data row0 col6\" >0</td>\n",
       "      <td id=\"T_16887_row0_col7\" class=\"data row0 col7\" >0</td>\n",
       "      <td id=\"T_16887_row0_col8\" class=\"data row0 col8\" >1</td>\n",
       "      <td id=\"T_16887_row0_col9\" class=\"data row0 col9\" >8</td>\n",
       "      <td id=\"T_16887_row0_col10\" class=\"data row0 col10\" >1</td>\n",
       "      <td id=\"T_16887_row0_col11\" class=\"data row0 col11\" >1</td>\n",
       "      <td id=\"T_16887_row0_col12\" class=\"data row0 col12\" >1</td>\n",
       "    </tr>\n",
       "    <tr>\n",
       "      <th id=\"T_16887_level0_row1\" class=\"row_heading level0 row1\" >1</th>\n",
       "      <td id=\"T_16887_row1_col0\" class=\"data row1 col0\" >0</td>\n",
       "      <td id=\"T_16887_row1_col1\" class=\"data row1 col1\" >0</td>\n",
       "      <td id=\"T_16887_row1_col2\" class=\"data row1 col2\" >0</td>\n",
       "      <td id=\"T_16887_row1_col3\" class=\"data row1 col3\" >1</td>\n",
       "      <td id=\"T_16887_row1_col4\" class=\"data row1 col4\" >0</td>\n",
       "      <td id=\"T_16887_row1_col5\" class=\"data row1 col5\" >0</td>\n",
       "      <td id=\"T_16887_row1_col6\" class=\"data row1 col6\" >0</td>\n",
       "      <td id=\"T_16887_row1_col7\" class=\"data row1 col7\" >0</td>\n",
       "      <td id=\"T_16887_row1_col8\" class=\"data row1 col8\" >0</td>\n",
       "      <td id=\"T_16887_row1_col9\" class=\"data row1 col9\" >7</td>\n",
       "      <td id=\"T_16887_row1_col10\" class=\"data row1 col10\" >1</td>\n",
       "      <td id=\"T_16887_row1_col11\" class=\"data row1 col11\" >1</td>\n",
       "      <td id=\"T_16887_row1_col12\" class=\"data row1 col12\" >1</td>\n",
       "    </tr>\n",
       "    <tr>\n",
       "      <th id=\"T_16887_level0_row2\" class=\"row_heading level0 row2\" >2</th>\n",
       "      <td id=\"T_16887_row2_col0\" class=\"data row2 col0\" >0</td>\n",
       "      <td id=\"T_16887_row2_col1\" class=\"data row2 col1\" >0</td>\n",
       "      <td id=\"T_16887_row2_col2\" class=\"data row2 col2\" >0</td>\n",
       "      <td id=\"T_16887_row2_col3\" class=\"data row2 col3\" >0</td>\n",
       "      <td id=\"T_16887_row2_col4\" class=\"data row2 col4\" >0</td>\n",
       "      <td id=\"T_16887_row2_col5\" class=\"data row2 col5\" >0</td>\n",
       "      <td id=\"T_16887_row2_col6\" class=\"data row2 col6\" >1</td>\n",
       "      <td id=\"T_16887_row2_col7\" class=\"data row2 col7\" >0</td>\n",
       "      <td id=\"T_16887_row2_col8\" class=\"data row2 col8\" >1</td>\n",
       "      <td id=\"T_16887_row2_col9\" class=\"data row2 col9\" >6</td>\n",
       "      <td id=\"T_16887_row2_col10\" class=\"data row2 col10\" >0</td>\n",
       "      <td id=\"T_16887_row2_col11\" class=\"data row2 col11\" >0</td>\n",
       "      <td id=\"T_16887_row2_col12\" class=\"data row2 col12\" >1</td>\n",
       "    </tr>\n",
       "    <tr>\n",
       "      <th id=\"T_16887_level0_row3\" class=\"row_heading level0 row3\" >3</th>\n",
       "      <td id=\"T_16887_row3_col0\" class=\"data row3 col0\" >0</td>\n",
       "      <td id=\"T_16887_row3_col1\" class=\"data row3 col1\" >1</td>\n",
       "      <td id=\"T_16887_row3_col2\" class=\"data row3 col2\" >0</td>\n",
       "      <td id=\"T_16887_row3_col3\" class=\"data row3 col3\" >0</td>\n",
       "      <td id=\"T_16887_row3_col4\" class=\"data row3 col4\" >0</td>\n",
       "      <td id=\"T_16887_row3_col5\" class=\"data row3 col5\" >0</td>\n",
       "      <td id=\"T_16887_row3_col6\" class=\"data row3 col6\" >1</td>\n",
       "      <td id=\"T_16887_row3_col7\" class=\"data row3 col7\" >0</td>\n",
       "      <td id=\"T_16887_row3_col8\" class=\"data row3 col8\" >0</td>\n",
       "      <td id=\"T_16887_row3_col9\" class=\"data row3 col9\" >8</td>\n",
       "      <td id=\"T_16887_row3_col10\" class=\"data row3 col10\" >0</td>\n",
       "      <td id=\"T_16887_row3_col11\" class=\"data row3 col11\" >1</td>\n",
       "      <td id=\"T_16887_row3_col12\" class=\"data row3 col12\" >1</td>\n",
       "    </tr>\n",
       "    <tr>\n",
       "      <th id=\"T_16887_level0_row4\" class=\"row_heading level0 row4\" >4</th>\n",
       "      <td id=\"T_16887_row4_col0\" class=\"data row4 col0\" >0</td>\n",
       "      <td id=\"T_16887_row4_col1\" class=\"data row4 col1\" >1</td>\n",
       "      <td id=\"T_16887_row4_col2\" class=\"data row4 col2\" >0</td>\n",
       "      <td id=\"T_16887_row4_col3\" class=\"data row4 col3\" >0</td>\n",
       "      <td id=\"T_16887_row4_col4\" class=\"data row4 col4\" >0</td>\n",
       "      <td id=\"T_16887_row4_col5\" class=\"data row4 col5\" >0</td>\n",
       "      <td id=\"T_16887_row4_col6\" class=\"data row4 col6\" >0</td>\n",
       "      <td id=\"T_16887_row4_col7\" class=\"data row4 col7\" >1</td>\n",
       "      <td id=\"T_16887_row4_col8\" class=\"data row4 col8\" >0</td>\n",
       "      <td id=\"T_16887_row4_col9\" class=\"data row4 col9\" >8</td>\n",
       "      <td id=\"T_16887_row4_col10\" class=\"data row4 col10\" >1</td>\n",
       "      <td id=\"T_16887_row4_col11\" class=\"data row4 col11\" >0</td>\n",
       "      <td id=\"T_16887_row4_col12\" class=\"data row4 col12\" >1</td>\n",
       "    </tr>\n",
       "  </tbody>\n",
       "</table>\n"
      ],
      "text/plain": [
       "<pandas.io.formats.style.Styler at 0x73b6059d2190>"
      ]
     },
     "execution_count": 62,
     "metadata": {},
     "output_type": "execute_result"
    }
   ],
   "source": [
    "#Rearrange columns\n",
    "df = df[['Student_Age','Gender','Civil', 'Computer Science', 'Electrical',\n",
    "       'Electronics And Communication', 'Information Technology',\n",
    "       'Mechanical', 'Internships', 'CGPA', 'Hostel', 'HistoryOfBacklogs','PlacedOrNot']]\n",
    "\n",
    "df.head(5).style.set_properties(**{\"background-color\": \"black\",\"color\": \"white\", \"border-color\": \"black\",\"font-size\":\"11.5pt\",'width': 200})"
   ]
  },
  {
   "cell_type": "code",
   "execution_count": 63,
   "metadata": {
    "execution": {
     "iopub.execute_input": "2023-04-08T18:17:41.141349Z",
     "iopub.status.busy": "2023-04-08T18:17:41.141105Z",
     "iopub.status.idle": "2023-04-08T18:17:41.156669Z",
     "shell.execute_reply": "2023-04-08T18:17:41.155685Z",
     "shell.execute_reply.started": "2023-04-08T18:17:41.141319Z"
    }
   },
   "outputs": [],
   "source": [
    "scaler = StandardScaler()\n",
    "\n",
    "scaler.fit(df.drop('PlacedOrNot',axis=1))\n",
    "\n",
    "scaled_features = scaler.transform(df.drop('PlacedOrNot',axis=1))"
   ]
  },
  {
   "cell_type": "code",
   "execution_count": 64,
   "metadata": {
    "_kg_hide-input": true,
    "execution": {
     "iopub.execute_input": "2023-04-08T18:17:41.158459Z",
     "iopub.status.busy": "2023-04-08T18:17:41.157967Z",
     "iopub.status.idle": "2023-04-08T18:17:41.184488Z",
     "shell.execute_reply": "2023-04-08T18:17:41.183509Z",
     "shell.execute_reply.started": "2023-04-08T18:17:41.158380Z"
    }
   },
   "outputs": [
    {
     "data": {
      "text/html": [
       "<style type=\"text/css\">\n",
       "#T_81827_row0_col0, #T_81827_row0_col1, #T_81827_row0_col2, #T_81827_row0_col3, #T_81827_row0_col4, #T_81827_row0_col5, #T_81827_row0_col6, #T_81827_row0_col7, #T_81827_row0_col8, #T_81827_row0_col9, #T_81827_row0_col10, #T_81827_row0_col11, #T_81827_row1_col0, #T_81827_row1_col1, #T_81827_row1_col2, #T_81827_row1_col3, #T_81827_row1_col4, #T_81827_row1_col5, #T_81827_row1_col6, #T_81827_row1_col7, #T_81827_row1_col8, #T_81827_row1_col9, #T_81827_row1_col10, #T_81827_row1_col11, #T_81827_row2_col0, #T_81827_row2_col1, #T_81827_row2_col2, #T_81827_row2_col3, #T_81827_row2_col4, #T_81827_row2_col5, #T_81827_row2_col6, #T_81827_row2_col7, #T_81827_row2_col8, #T_81827_row2_col9, #T_81827_row2_col10, #T_81827_row2_col11, #T_81827_row3_col0, #T_81827_row3_col1, #T_81827_row3_col2, #T_81827_row3_col3, #T_81827_row3_col4, #T_81827_row3_col5, #T_81827_row3_col6, #T_81827_row3_col7, #T_81827_row3_col8, #T_81827_row3_col9, #T_81827_row3_col10, #T_81827_row3_col11, #T_81827_row4_col0, #T_81827_row4_col1, #T_81827_row4_col2, #T_81827_row4_col3, #T_81827_row4_col4, #T_81827_row4_col5, #T_81827_row4_col6, #T_81827_row4_col7, #T_81827_row4_col8, #T_81827_row4_col9, #T_81827_row4_col10, #T_81827_row4_col11 {\n",
       "  background-color: black;\n",
       "  color: white;\n",
       "  border-color: black;\n",
       "  font-size: 11.5pt;\n",
       "  width: 200;\n",
       "}\n",
       "</style>\n",
       "<table id=\"T_81827_\">\n",
       "  <thead>\n",
       "    <tr>\n",
       "      <th class=\"blank level0\" >&nbsp;</th>\n",
       "      <th class=\"col_heading level0 col0\" >Student_Age</th>\n",
       "      <th class=\"col_heading level0 col1\" >Gender</th>\n",
       "      <th class=\"col_heading level0 col2\" >Civil</th>\n",
       "      <th class=\"col_heading level0 col3\" >Computer Science</th>\n",
       "      <th class=\"col_heading level0 col4\" >Electrical</th>\n",
       "      <th class=\"col_heading level0 col5\" >Electronics And Communication</th>\n",
       "      <th class=\"col_heading level0 col6\" >Information Technology</th>\n",
       "      <th class=\"col_heading level0 col7\" >Mechanical</th>\n",
       "      <th class=\"col_heading level0 col8\" >Internships</th>\n",
       "      <th class=\"col_heading level0 col9\" >CGPA</th>\n",
       "      <th class=\"col_heading level0 col10\" >Hostel</th>\n",
       "      <th class=\"col_heading level0 col11\" >HistoryOfBacklogs</th>\n",
       "    </tr>\n",
       "  </thead>\n",
       "  <tbody>\n",
       "    <tr>\n",
       "      <th id=\"T_81827_level0_row0\" class=\"row_heading level0 row0\" >0</th>\n",
       "      <td id=\"T_81827_row0_col0\" class=\"data row0 col0\" >-0.558516</td>\n",
       "      <td id=\"T_81827_row0_col1\" class=\"data row0 col1\" >0.586491</td>\n",
       "      <td id=\"T_81827_row0_col2\" class=\"data row0 col2\" >-0.392829</td>\n",
       "      <td id=\"T_81827_row0_col3\" class=\"data row0 col3\" >-0.521356</td>\n",
       "      <td id=\"T_81827_row0_col4\" class=\"data row0 col4\" >-0.404681</td>\n",
       "      <td id=\"T_81827_row0_col5\" class=\"data row0 col5\" >2.352548</td>\n",
       "      <td id=\"T_81827_row0_col6\" class=\"data row0 col6\" >-0.521356</td>\n",
       "      <td id=\"T_81827_row0_col7\" class=\"data row0 col7\" >-0.412011</td>\n",
       "      <td id=\"T_81827_row0_col8\" class=\"data row0 col8\" >0.178784</td>\n",
       "      <td id=\"T_81827_row0_col9\" class=\"data row0 col9\" >0.947780</td>\n",
       "      <td id=\"T_81827_row0_col10\" class=\"data row0 col10\" >1.408635</td>\n",
       "      <td id=\"T_81827_row0_col11\" class=\"data row0 col11\" >1.540742</td>\n",
       "    </tr>\n",
       "    <tr>\n",
       "      <th id=\"T_81827_level0_row1\" class=\"row_heading level0 row1\" >1</th>\n",
       "      <td id=\"T_81827_row1_col0\" class=\"data row1 col0\" >-0.558516</td>\n",
       "      <td id=\"T_81827_row1_col1\" class=\"data row1 col1\" >-1.705056</td>\n",
       "      <td id=\"T_81827_row1_col2\" class=\"data row1 col2\" >-0.392829</td>\n",
       "      <td id=\"T_81827_row1_col3\" class=\"data row1 col3\" >1.918075</td>\n",
       "      <td id=\"T_81827_row1_col4\" class=\"data row1 col4\" >-0.404681</td>\n",
       "      <td id=\"T_81827_row1_col5\" class=\"data row1 col5\" >-0.425071</td>\n",
       "      <td id=\"T_81827_row1_col6\" class=\"data row1 col6\" >-0.521356</td>\n",
       "      <td id=\"T_81827_row1_col7\" class=\"data row1 col7\" >-0.412011</td>\n",
       "      <td id=\"T_81827_row1_col8\" class=\"data row1 col8\" >-1.024040</td>\n",
       "      <td id=\"T_81827_row1_col9\" class=\"data row1 col9\" >0.010714</td>\n",
       "      <td id=\"T_81827_row1_col10\" class=\"data row1 col10\" >1.408635</td>\n",
       "      <td id=\"T_81827_row1_col11\" class=\"data row1 col11\" >1.540742</td>\n",
       "    </tr>\n",
       "    <tr>\n",
       "      <th id=\"T_81827_level0_row2\" class=\"row_heading level0 row2\" >2</th>\n",
       "      <td id=\"T_81827_row2_col0\" class=\"data row2 col0\" >-0.558516</td>\n",
       "      <td id=\"T_81827_row2_col1\" class=\"data row2 col1\" >-1.705056</td>\n",
       "      <td id=\"T_81827_row2_col2\" class=\"data row2 col2\" >-0.392829</td>\n",
       "      <td id=\"T_81827_row2_col3\" class=\"data row2 col3\" >-0.521356</td>\n",
       "      <td id=\"T_81827_row2_col4\" class=\"data row2 col4\" >-0.404681</td>\n",
       "      <td id=\"T_81827_row2_col5\" class=\"data row2 col5\" >-0.425071</td>\n",
       "      <td id=\"T_81827_row2_col6\" class=\"data row2 col6\" >1.918075</td>\n",
       "      <td id=\"T_81827_row2_col7\" class=\"data row2 col7\" >-0.412011</td>\n",
       "      <td id=\"T_81827_row2_col8\" class=\"data row2 col8\" >0.178784</td>\n",
       "      <td id=\"T_81827_row2_col9\" class=\"data row2 col9\" >-0.926352</td>\n",
       "      <td id=\"T_81827_row2_col10\" class=\"data row2 col10\" >-0.709907</td>\n",
       "      <td id=\"T_81827_row2_col11\" class=\"data row2 col11\" >-0.649038</td>\n",
       "    </tr>\n",
       "    <tr>\n",
       "      <th id=\"T_81827_level0_row3\" class=\"row_heading level0 row3\" >3</th>\n",
       "      <td id=\"T_81827_row3_col0\" class=\"data row3 col0\" >-0.558516</td>\n",
       "      <td id=\"T_81827_row3_col1\" class=\"data row3 col1\" >0.586491</td>\n",
       "      <td id=\"T_81827_row3_col2\" class=\"data row3 col2\" >-0.392829</td>\n",
       "      <td id=\"T_81827_row3_col3\" class=\"data row3 col3\" >-0.521356</td>\n",
       "      <td id=\"T_81827_row3_col4\" class=\"data row3 col4\" >-0.404681</td>\n",
       "      <td id=\"T_81827_row3_col5\" class=\"data row3 col5\" >-0.425071</td>\n",
       "      <td id=\"T_81827_row3_col6\" class=\"data row3 col6\" >1.918075</td>\n",
       "      <td id=\"T_81827_row3_col7\" class=\"data row3 col7\" >-0.412011</td>\n",
       "      <td id=\"T_81827_row3_col8\" class=\"data row3 col8\" >-1.024040</td>\n",
       "      <td id=\"T_81827_row3_col9\" class=\"data row3 col9\" >0.947780</td>\n",
       "      <td id=\"T_81827_row3_col10\" class=\"data row3 col10\" >-0.709907</td>\n",
       "      <td id=\"T_81827_row3_col11\" class=\"data row3 col11\" >1.540742</td>\n",
       "    </tr>\n",
       "    <tr>\n",
       "      <th id=\"T_81827_level0_row4\" class=\"row_heading level0 row4\" >4</th>\n",
       "      <td id=\"T_81827_row4_col0\" class=\"data row4 col0\" >-0.558516</td>\n",
       "      <td id=\"T_81827_row4_col1\" class=\"data row4 col1\" >0.586491</td>\n",
       "      <td id=\"T_81827_row4_col2\" class=\"data row4 col2\" >-0.392829</td>\n",
       "      <td id=\"T_81827_row4_col3\" class=\"data row4 col3\" >-0.521356</td>\n",
       "      <td id=\"T_81827_row4_col4\" class=\"data row4 col4\" >-0.404681</td>\n",
       "      <td id=\"T_81827_row4_col5\" class=\"data row4 col5\" >-0.425071</td>\n",
       "      <td id=\"T_81827_row4_col6\" class=\"data row4 col6\" >-0.521356</td>\n",
       "      <td id=\"T_81827_row4_col7\" class=\"data row4 col7\" >2.427120</td>\n",
       "      <td id=\"T_81827_row4_col8\" class=\"data row4 col8\" >-1.024040</td>\n",
       "      <td id=\"T_81827_row4_col9\" class=\"data row4 col9\" >0.947780</td>\n",
       "      <td id=\"T_81827_row4_col10\" class=\"data row4 col10\" >1.408635</td>\n",
       "      <td id=\"T_81827_row4_col11\" class=\"data row4 col11\" >-0.649038</td>\n",
       "    </tr>\n",
       "  </tbody>\n",
       "</table>\n"
      ],
      "text/plain": [
       "<pandas.io.formats.style.Styler at 0x73b6059e8fd0>"
      ]
     },
     "execution_count": 64,
     "metadata": {},
     "output_type": "execute_result"
    }
   ],
   "source": [
    "scaled_features = pd.DataFrame(scaled_features, columns = df.columns[:-1])\n",
    "scaled_features.head().style.set_properties(**{\"background-color\": \"black\",\"color\": \"white\", \"border-color\": \"black\",\"font-size\":\"11.5pt\",'width': 200})"
   ]
  },
  {
   "cell_type": "code",
   "execution_count": 65,
   "metadata": {
    "execution": {
     "iopub.execute_input": "2023-04-08T18:17:41.185783Z",
     "iopub.status.busy": "2023-04-08T18:17:41.185548Z",
     "iopub.status.idle": "2023-04-08T18:17:41.190761Z",
     "shell.execute_reply": "2023-04-08T18:17:41.189922Z",
     "shell.execute_reply.started": "2023-04-08T18:17:41.185755Z"
    }
   },
   "outputs": [],
   "source": [
    "X = scaled_features\n",
    "y = df['PlacedOrNot']"
   ]
  },
  {
   "cell_type": "code",
   "execution_count": 66,
   "metadata": {
    "execution": {
     "iopub.execute_input": "2023-04-08T18:17:41.192120Z",
     "iopub.status.busy": "2023-04-08T18:17:41.191880Z",
     "iopub.status.idle": "2023-04-08T18:17:41.248327Z",
     "shell.execute_reply": "2023-04-08T18:17:41.247559Z",
     "shell.execute_reply.started": "2023-04-08T18:17:41.192090Z"
    }
   },
   "outputs": [],
   "source": [
    "from sklearn.model_selection import train_test_split\n",
    "X_train, X_test, y_train, y_test = train_test_split(X,y,test_size = 0.30,random_state = 0)"
   ]
  },
  {
   "cell_type": "code",
   "execution_count": 67,
   "metadata": {
    "execution": {
     "iopub.execute_input": "2023-04-08T18:17:41.249592Z",
     "iopub.status.busy": "2023-04-08T18:17:41.249367Z",
     "iopub.status.idle": "2023-04-08T18:17:41.504564Z",
     "shell.execute_reply": "2023-04-08T18:17:41.503699Z",
     "shell.execute_reply.started": "2023-04-08T18:17:41.249567Z"
    }
   },
   "outputs": [],
   "source": [
    "from sklearn.ensemble import RandomForestClassifier ,AdaBoostClassifier,BaggingClassifier,ExtraTreesClassifier,GradientBoostingClassifier\n",
    "from sklearn.model_selection import GridSearchCV, cross_val_score, StratifiedKFold, learning_curve ,KFold\n",
    "from sklearn.metrics import roc_curve,accuracy_score,f1_score,auc,confusion_matrix,roc_auc_score,plot_confusion_matrix\n",
    "from xgboost.sklearn import XGBClassifier\n",
    "from sklearn.metrics import classification_report,confusion_matrix,accuracy_score\n",
    "from sklearn.tree import DecisionTreeClassifier"
   ]
  },
  {
   "cell_type": "code",
   "execution_count": 68,
   "metadata": {
    "_kg_hide-input": true,
    "execution": {
     "iopub.execute_input": "2023-04-08T18:17:41.507082Z",
     "iopub.status.busy": "2023-04-08T18:17:41.506840Z",
     "iopub.status.idle": "2023-04-08T18:17:45.951656Z",
     "shell.execute_reply": "2023-04-08T18:17:45.950812Z",
     "shell.execute_reply.started": "2023-04-08T18:17:41.507054Z"
    }
   },
   "outputs": [],
   "source": [
    "# =============================================================================\n",
    "# Cross validation on differnet set of algorithm!!!\n",
    "# =============================================================================\n",
    "################################################################\n",
    "kfold = StratifiedKFold(n_splits=8,shuffle=True, random_state=42)\n",
    "\n",
    "\n",
    "rs = 15\n",
    "clrs = []\n",
    "\n",
    "clrs.append(AdaBoostClassifier(random_state=rs))\n",
    "clrs.append(GradientBoostingClassifier(random_state=rs))\n",
    "clrs.append(RandomForestClassifier(random_state=rs))\n",
    "clrs.append(ExtraTreesClassifier(random_state = rs))\n",
    "clrs.append(DecisionTreeClassifier(random_state = rs))\n",
    "\n",
    "cv_results = []\n",
    "for clr in clrs :\n",
    "    cv_results.append(cross_val_score(clr, X_train, y_train , scoring = 'accuracy', cv = kfold, n_jobs=-1))\n",
    "\n",
    "cv_means = []\n",
    "cv_std = []\n",
    "for cv_result in cv_results:\n",
    "    cv_means.append(cv_result.mean())\n",
    "    cv_std.append(cv_result.std())\n",
    "    \n",
    "cv_df = pd.DataFrame({\"CrossVal_Score_Means\":cv_means,\"CrossValerrors\": cv_std,\"Algo\":[\"RandomForestClassifier\",\"AdaBoostClassifier\",\"Gradient Boosting\",'ExtraTreesClassifier','DecisionTreeClassifier']})\n"
   ]
  },
  {
   "cell_type": "code",
   "execution_count": 69,
   "metadata": {
    "execution": {
     "iopub.execute_input": "2023-04-08T18:17:45.961703Z",
     "iopub.status.busy": "2023-04-08T18:17:45.961392Z",
     "iopub.status.idle": "2023-04-08T18:17:46.250541Z",
     "shell.execute_reply": "2023-04-08T18:17:46.249522Z",
     "shell.execute_reply.started": "2023-04-08T18:17:45.961664Z"
    }
   },
   "outputs": [
    {
     "name": "stdout",
     "output_type": "stream",
     "text": [
      "   CrossVal_Score_Means  CrossValerrors                    Algo\n",
      "0              0.792386        0.039934  RandomForestClassifier\n",
      "1              0.786111        0.042556      AdaBoostClassifier\n",
      "2              0.737184        0.055406       Gradient Boosting\n",
      "3              0.740896        0.045384    ExtraTreesClassifier\n",
      "4              0.738359        0.053756  DecisionTreeClassifier\n"
     ]
    },
    {
     "data": {
      "image/png": "[encoded data removed]",
      "text/plain": [
       "<Figure size 432x288 with 1 Axes>"
      ]
     },
     "metadata": {
      "needs_background": "light"
     },
     "output_type": "display_data"
    },
    {
     "data": {
      "text/plain": [
       "<Figure size 864x576 with 0 Axes>"
      ]
     },
     "metadata": {},
     "output_type": "display_data"
    }
   ],
   "source": [
    "g = sns.barplot(\"CrossVal_Score_Means\",\"Algo\",data = cv_df,orient = \"h\",**{'xerr':cv_std},color = '#d2ff4d')\n",
    "g.set_xlabel(\"Mean Accuracy\",fontsize = 18)\n",
    "g = g.set_title(\"Cross validation scores\",fontsize = 24)\n",
    "plt.figure(figsize = (12,8))\n",
    "print(cv_df)"
   ]
  },
  {
   "cell_type": "code",
   "execution_count": 70,
   "metadata": {
    "_kg_hide-input": true,
    "execution": {
     "iopub.execute_input": "2023-04-08T18:17:46.252344Z",
     "iopub.status.busy": "2023-04-08T18:17:46.252111Z",
     "iopub.status.idle": "2023-04-08T18:17:46.261837Z",
     "shell.execute_reply": "2023-04-08T18:17:46.261140Z",
     "shell.execute_reply.started": "2023-04-08T18:17:46.252314Z"
    }
   },
   "outputs": [],
   "source": [
    "from sklearn.tree import DecisionTreeClassifier\n",
    "dtc = DecisionTreeClassifier()\n",
    "dtc.fit(X_train, y_train)\n",
    "y_pred = dtc.predict(X_test)"
   ]
  },
  {
   "cell_type": "code",
   "execution_count": 71,
   "metadata": {
    "execution": {
     "iopub.execute_input": "2023-04-08T18:17:46.263384Z",
     "iopub.status.busy": "2023-04-08T18:17:46.263126Z",
     "iopub.status.idle": "2023-04-08T18:17:46.274919Z",
     "shell.execute_reply": "2023-04-08T18:17:46.274031Z",
     "shell.execute_reply.started": "2023-04-08T18:17:46.263352Z"
    }
   },
   "outputs": [
    {
     "data": {
      "text/plain": [
       "array([[120,  33],\n",
       "       [ 53, 136]])"
      ]
     },
     "execution_count": 71,
     "metadata": {},
     "output_type": "execute_result"
    }
   ],
   "source": [
    "confusion_matrix(y_test, y_pred)"
   ]
  },
  {
   "cell_type": "code",
   "execution_count": 72,
   "metadata": {
    "execution": {
     "iopub.execute_input": "2023-04-08T18:17:46.276513Z",
     "iopub.status.busy": "2023-04-08T18:17:46.276256Z",
     "iopub.status.idle": "2023-04-08T18:17:46.289639Z",
     "shell.execute_reply": "2023-04-08T18:17:46.288767Z",
     "shell.execute_reply.started": "2023-04-08T18:17:46.276482Z"
    }
   },
   "outputs": [
    {
     "name": "stdout",
     "output_type": "stream",
     "text": [
      "              precision    recall  f1-score   support\n",
      "\n",
      "           0       0.69      0.78      0.74       153\n",
      "           1       0.80      0.72      0.76       189\n",
      "\n",
      "    accuracy                           0.75       342\n",
      "   macro avg       0.75      0.75      0.75       342\n",
      "weighted avg       0.76      0.75      0.75       342\n",
      "\n"
     ]
    }
   ],
   "source": [
    "print(classification_report(y_test, y_pred))"
   ]
  },
  {
   "cell_type": "code",
   "execution_count": 73,
   "metadata": {
    "execution": {
     "iopub.execute_input": "2023-04-08T18:17:46.291406Z",
     "iopub.status.busy": "2023-04-08T18:17:46.290834Z",
     "iopub.status.idle": "2023-04-08T18:17:46.296298Z",
     "shell.execute_reply": "2023-04-08T18:17:46.295435Z",
     "shell.execute_reply.started": "2023-04-08T18:17:46.291363Z"
    }
   },
   "outputs": [
    {
     "name": "stdout",
     "output_type": "stream",
     "text": [
      "0.7485380116959064\n"
     ]
    }
   ],
   "source": [
    "print(accuracy_score(y_test, y_pred))"
   ]
  },
  {
   "cell_type": "code",
   "execution_count": 79,
   "metadata": {
    "execution": {
     "iopub.execute_input": "2023-04-08T18:18:50.054452Z",
     "iopub.status.busy": "2023-04-08T18:18:50.054101Z",
     "iopub.status.idle": "2023-04-08T18:18:50.059596Z",
     "shell.execute_reply": "2023-04-08T18:18:50.058750Z",
     "shell.execute_reply.started": "2023-04-08T18:18:50.054405Z"
    }
   },
   "outputs": [
    {
     "name": "stdout",
     "output_type": "stream",
     "text": [
      "{'algorithm': 'SAMME.R', 'learning_rate': 0.001, 'n_estimators': 180}\n",
      "0.7850632911392406\n"
     ]
    }
   ],
   "source": [
    "print(grid_search.best_params_)\n",
    "print(grid_search.best_score_)"
   ]
  }
 ],
 "metadata": {
  "kernelspec": {
   "display_name": "Python 3 (ipykernel)",
   "language": "python",
   "name": "python3"
  },
  "language_info": {
   "codemirror_mode": {
    "name": "ipython",
    "version": 3
   },
   "file_extension": ".py",
   "mimetype": "text/x-python",
   "name": "python",
   "nbconvert_exporter": "python",
   "pygments_lexer": "ipython3",
   "version": "3.10.9"
  }
 },
 "nbformat": 4,
 "nbformat_minor": 4
}
